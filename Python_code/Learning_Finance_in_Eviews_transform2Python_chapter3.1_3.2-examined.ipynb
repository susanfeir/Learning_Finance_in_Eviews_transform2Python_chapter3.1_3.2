{
 "cells": [
  {
   "cell_type": "markdown",
   "metadata": {},
   "source": [
    "# Pythonで学ぶ　応用ファイナンス"
   ]
  },
  {
   "cell_type": "markdown",
   "metadata": {},
   "source": [
    "# 第３章　市場リスク分析"
   ]
  },
  {
   "cell_type": "markdown",
   "metadata": {},
   "source": [
    "author{尚　晋}　date{JAN 24, 2022}"
   ]
  },
  {
   "cell_type": "markdown",
   "metadata": {},
   "source": [
    "## 3.1 シングルインデックスモデル"
   ]
  },
  {
   "cell_type": "markdown",
   "metadata": {},
   "source": [
    "1. シングルインデックスモデル\n",
    "* 収益率を予測可能な部分と、予測できない部分に分ける.\n",
    "    <ul> $r_i=E(r_i)+e_i$ </ul>\n",
    "    <br>\n",
    "* 全ての証券のリターンに影響を与える共通ファクター$𝑚$が存在すると考える。\n",
    "    <ul> $r_i=E(r_i)+m+e_i$ </ul>\n",
    "    <br>\n",
    "* 企業によってマクロ経済のショックに対する反応は異なるので、感応度$\\beta$で表す。\n",
    "    <ul> $r_i=E(r_i)+\\beta_i m+e_i$ </ul>\n",
    "    <br>\n",
    "* TOPIXなどのマーケットインデックスの収益率などをマクロ経済変数の代理変数として利用する。\n",
    "    <ul> $R_i(t)=\\alpha_i+\\beta_iR_M(t)+e_i(t)$ </ul> \n",
    "    <br>\n",
    "* $R_M$と$R_i$は超過リターンで、 \n",
    "    <ul> $R_M=r_M-r_f$</ul> \n",
    "    <ul> $R_i=r_i-r_f$</ul> \n",
    "    <ul>で計算する</ul> \n",
    "    <ul>ここで、$r_f$はリスクフリーレートである。本章で10年物国債の利回りを使う。</ul>\n",
    "<br>\n",
    "2. データ\n",
    "\n",
    "<table>\n",
    "<thead>\n",
    "<tr>\n",
    "<th>株価</th>\n",
    "<th>超過リターン</th>\n",
    "<th>計算式</th>\n",
    "</tr>\n",
    "</thead>\n",
    "    \n",
    "<tbody>   \n",
    "<tr>\n",
    "<td>Asics</td>\n",
    "<td>r1</td>\n",
    "<td>dlog(asics)-m10y</td>\n",
    "</tr>\n",
    "\n",
    "<tr>\n",
    "<td>GREE</td>\n",
    "<td>r2</td>\n",
    "<td>dlog(gree)-m10y</td>\n",
    "</tr>\n",
    "    \n",
    "<tr>\n",
    "<td>MUFJ</td>\n",
    "<td>r3</td>\n",
    "<td>dlog(mufj)-m10y</td>\n",
    "</tr>\n",
    "\n",
    "<tr>\n",
    "<td>TGAS</td>\n",
    "<td>r4</td>\n",
    "<td>dlog(tgas)-m10y</td>\n",
    "</tr>\n",
    "\n",
    "<thead>\n",
    "<tr>\n",
    "<td>TOYOTA</td>\n",
    "<td>r5</td>\n",
    "<td>dlog(tgas)-m10y</td>\n",
    "</tr>\n",
    "</thead>\n",
    "\n",
    "<tr>\n",
    "<td>TOPIX</td>\n",
    "<td>rtpx</td>\n",
    "<td>dlog(topix)-m10y</td>\n",
    "</tr>\n",
    "\n",
    "\n",
    "</tbody>\n",
    "</table>\n",
    "\n",
    "<br>"
   ]
  },
  {
   "cell_type": "code",
   "execution_count": 58,
   "metadata": {},
   "outputs": [],
   "source": [
    "import pandas as pd\n",
    "import numpy as np\n",
    "import matplotlib.pyplot as plt\n",
    "from scipy import interpolate\n",
    "import warnings\n",
    "warnings.filterwarnings(\"ignore\")\n",
    "\n",
    "#データの読み込み  Chap3.1_3.4_data_daily.csv\n",
    "df = pd.read_csv(\n",
    "    'D:\\\\Chrome Download\\\\07973_1\\\\Chap3_marketRiskAnalysis\\\\data\\\\Chap3.1_3.4_data_daily.csv',\n",
    "    header=0)\n",
    "df['Date'] = pd.to_datetime(df['Date'])\n",
    "df.set_index('Date', inplace=True) # set index\n",
    "# df.index= df['Date']  #also set index, but will show two columns Date"
   ]
  },
  {
   "cell_type": "code",
   "execution_count": 2,
   "metadata": {
    "scrolled": true
   },
   "outputs": [
    {
     "name": "stdout",
     "output_type": "stream",
     "text": [
      "<class 'pandas.core.frame.DataFrame'>\n",
      "DatetimeIndex: 733 entries, 2013-01-04 to 2015-12-30\n",
      "Data columns (total 7 columns):\n",
      " #   Column  Non-Null Count  Dtype  \n",
      "---  ------  --------------  -----  \n",
      " 0   topix   733 non-null    float64\n",
      " 1   m10     733 non-null    float64\n",
      " 2   asics   733 non-null    float64\n",
      " 3   gree    733 non-null    float64\n",
      " 4   mufj    733 non-null    float64\n",
      " 5   tgas    733 non-null    float64\n",
      " 6   toyota  733 non-null    float64\n",
      "dtypes: float64(7)\n",
      "memory usage: 45.8 KB\n"
     ]
    }
   ],
   "source": [
    "df.info()"
   ]
  },
  {
   "cell_type": "code",
   "execution_count": 3,
   "metadata": {
    "scrolled": true
   },
   "outputs": [
    {
     "data": {
      "text/html": [
       "<div>\n",
       "<style scoped>\n",
       "    .dataframe tbody tr th:only-of-type {\n",
       "        vertical-align: middle;\n",
       "    }\n",
       "\n",
       "    .dataframe tbody tr th {\n",
       "        vertical-align: top;\n",
       "    }\n",
       "\n",
       "    .dataframe thead th {\n",
       "        text-align: right;\n",
       "    }\n",
       "</style>\n",
       "<table border=\"1\" class=\"dataframe\">\n",
       "  <thead>\n",
       "    <tr style=\"text-align: right;\">\n",
       "      <th></th>\n",
       "      <th>topix</th>\n",
       "      <th>m10</th>\n",
       "      <th>asics</th>\n",
       "      <th>gree</th>\n",
       "      <th>mufj</th>\n",
       "      <th>tgas</th>\n",
       "      <th>toyota</th>\n",
       "      <th>m10y</th>\n",
       "    </tr>\n",
       "    <tr>\n",
       "      <th>Date</th>\n",
       "      <th></th>\n",
       "      <th></th>\n",
       "      <th></th>\n",
       "      <th></th>\n",
       "      <th></th>\n",
       "      <th></th>\n",
       "      <th></th>\n",
       "      <th></th>\n",
       "    </tr>\n",
       "  </thead>\n",
       "  <tbody>\n",
       "    <tr>\n",
       "      <th>2013-01-04</th>\n",
       "      <td>888.51</td>\n",
       "      <td>0.835</td>\n",
       "      <td>1378.0</td>\n",
       "      <td>1381.0</td>\n",
       "      <td>484.0</td>\n",
       "      <td>2030.0</td>\n",
       "      <td>4260.0</td>\n",
       "      <td>0.008367</td>\n",
       "    </tr>\n",
       "    <tr>\n",
       "      <th>2013-01-07</th>\n",
       "      <td>881.06</td>\n",
       "      <td>0.835</td>\n",
       "      <td>1343.0</td>\n",
       "      <td>1435.0</td>\n",
       "      <td>476.0</td>\n",
       "      <td>2050.0</td>\n",
       "      <td>4185.0</td>\n",
       "      <td>0.008367</td>\n",
       "    </tr>\n",
       "    <tr>\n",
       "      <th>2013-01-08</th>\n",
       "      <td>871.88</td>\n",
       "      <td>0.825</td>\n",
       "      <td>1333.0</td>\n",
       "      <td>1416.0</td>\n",
       "      <td>462.0</td>\n",
       "      <td>2070.0</td>\n",
       "      <td>4100.0</td>\n",
       "      <td>0.008267</td>\n",
       "    </tr>\n",
       "    <tr>\n",
       "      <th>2013-01-09</th>\n",
       "      <td>879.05</td>\n",
       "      <td>0.825</td>\n",
       "      <td>1366.0</td>\n",
       "      <td>1385.0</td>\n",
       "      <td>469.0</td>\n",
       "      <td>2075.0</td>\n",
       "      <td>4165.0</td>\n",
       "      <td>0.008267</td>\n",
       "    </tr>\n",
       "    <tr>\n",
       "      <th>2013-01-10</th>\n",
       "      <td>889.02</td>\n",
       "      <td>0.825</td>\n",
       "      <td>1370.0</td>\n",
       "      <td>1382.0</td>\n",
       "      <td>474.0</td>\n",
       "      <td>2065.0</td>\n",
       "      <td>4205.0</td>\n",
       "      <td>0.008267</td>\n",
       "    </tr>\n",
       "  </tbody>\n",
       "</table>\n",
       "</div>"
      ],
      "text/plain": [
       "             topix    m10   asics    gree   mufj    tgas  toyota      m10y\n",
       "Date                                                                      \n",
       "2013-01-04  888.51  0.835  1378.0  1381.0  484.0  2030.0  4260.0  0.008367\n",
       "2013-01-07  881.06  0.835  1343.0  1435.0  476.0  2050.0  4185.0  0.008367\n",
       "2013-01-08  871.88  0.825  1333.0  1416.0  462.0  2070.0  4100.0  0.008267\n",
       "2013-01-09  879.05  0.825  1366.0  1385.0  469.0  2075.0  4165.0  0.008267\n",
       "2013-01-10  889.02  0.825  1370.0  1382.0  474.0  2065.0  4205.0  0.008267"
      ]
     },
     "execution_count": 3,
     "metadata": {},
     "output_type": "execute_result"
    }
   ],
   "source": [
    "#インポートした国債利回り（日次）のデータはパーセント単位（半年複利の利回り）なので、\n",
    "#対数階差で計算する収益率は年次なので、次の式で半年複利の利回りm10を年利に変更する。\n",
    "#m10*0.01 小数に戻す\n",
    "#df$m10*0.01/2 半年を年に変更\n",
    "#1+df$m10*0.01/2　元本に\n",
    "# (1+df$m10*0.01/2)^2　複利計算は二乗\n",
    "# (1+df$m10*0.01/2)^2-1　金利の部分だけを取る\n",
    "df['m10y'] = ((1+df['m10'] *0.01/2)**2-1)\n",
    "df=df.dropna(axis=0,how='any') #欠損値を削除\n",
    "# df =df.fillna(method='bfill') #欠損値を削除するほか、\n",
    "df.head()"
   ]
  },
  {
   "cell_type": "code",
   "execution_count": 4,
   "metadata": {
    "scrolled": true
   },
   "outputs": [
    {
     "data": {
      "text/plain": [
       "Date\n",
       "2013-01-07   -0.034095\n",
       "2013-01-08   -0.015741\n",
       "2013-01-09    0.016188\n",
       "2013-01-10   -0.005343\n",
       "2013-01-11    0.010624\n",
       "                ...   \n",
       "2015-12-24   -0.020959\n",
       "2015-12-25   -0.011593\n",
       "2015-12-28   -0.003881\n",
       "2015-12-29    0.008954\n",
       "2015-12-30    0.003289\n",
       "Length: 732, dtype: float64"
      ]
     },
     "execution_count": 4,
     "metadata": {},
     "output_type": "execute_result"
    }
   ],
   "source": [
    "# print((2.1-1.5)/1.5) #0.4000000000000001\n",
    "# print(np.log(2.1/1.5)) #0.336472236621213\n",
    "# print(np.log(2.1)-np.log(1.5)) #0.33647223662121295\n",
    "\n",
    "# method1 df['asics'].pct_change(1)-df['m10y']\n",
    "# method2 (np.log(df['asics']/df['asics'].shift(1))-df['m10y']).dropna() 2=3 !=(not equal)1\n",
    "# method3\n",
    "(np.log(df['asics']).diff() - df['m10y']).dropna()"
   ]
  },
  {
   "cell_type": "code",
   "execution_count": 5,
   "metadata": {},
   "outputs": [
    {
     "data": {
      "text/plain": [
       "Index(['topix', 'asics', 'gree', 'mufj', 'tgas', 'toyota'], dtype='object')"
      ]
     },
     "execution_count": 5,
     "metadata": {},
     "output_type": "execute_result"
    }
   ],
   "source": [
    "# extract the column name\n",
    "columns=df.drop(['m10','m10y'],axis=1).columns\n",
    "columns"
   ]
  },
  {
   "cell_type": "code",
   "execution_count": 6,
   "metadata": {},
   "outputs": [
    {
     "data": {
      "text/html": [
       "<div>\n",
       "<style scoped>\n",
       "    .dataframe tbody tr th:only-of-type {\n",
       "        vertical-align: middle;\n",
       "    }\n",
       "\n",
       "    .dataframe tbody tr th {\n",
       "        vertical-align: top;\n",
       "    }\n",
       "\n",
       "    .dataframe thead th {\n",
       "        text-align: right;\n",
       "    }\n",
       "</style>\n",
       "<table border=\"1\" class=\"dataframe\">\n",
       "  <thead>\n",
       "    <tr style=\"text-align: right;\">\n",
       "      <th></th>\n",
       "      <th>topix</th>\n",
       "      <th>asics</th>\n",
       "      <th>gree</th>\n",
       "      <th>mufj</th>\n",
       "      <th>tgas</th>\n",
       "      <th>toyota</th>\n",
       "    </tr>\n",
       "    <tr>\n",
       "      <th>Date</th>\n",
       "      <th></th>\n",
       "      <th></th>\n",
       "      <th></th>\n",
       "      <th></th>\n",
       "      <th></th>\n",
       "      <th></th>\n",
       "    </tr>\n",
       "  </thead>\n",
       "  <tbody>\n",
       "    <tr>\n",
       "      <th>2013-01-07</th>\n",
       "      <td>-0.016788</td>\n",
       "      <td>-0.034095</td>\n",
       "      <td>0.029990</td>\n",
       "      <td>-0.025034</td>\n",
       "      <td>0.001437</td>\n",
       "      <td>-0.026130</td>\n",
       "    </tr>\n",
       "    <tr>\n",
       "      <th>2013-01-08</th>\n",
       "      <td>-0.018741</td>\n",
       "      <td>-0.015741</td>\n",
       "      <td>-0.021596</td>\n",
       "      <td>-0.038120</td>\n",
       "      <td>0.001442</td>\n",
       "      <td>-0.028787</td>\n",
       "    </tr>\n",
       "    <tr>\n",
       "      <th>2013-01-09</th>\n",
       "      <td>-0.000077</td>\n",
       "      <td>0.016188</td>\n",
       "      <td>-0.030403</td>\n",
       "      <td>0.006771</td>\n",
       "      <td>-0.005854</td>\n",
       "      <td>0.007462</td>\n",
       "    </tr>\n",
       "    <tr>\n",
       "      <th>2013-01-10</th>\n",
       "      <td>0.003011</td>\n",
       "      <td>-0.005343</td>\n",
       "      <td>-0.010435</td>\n",
       "      <td>0.002338</td>\n",
       "      <td>-0.013098</td>\n",
       "      <td>0.001291</td>\n",
       "    </tr>\n",
       "    <tr>\n",
       "      <th>2013-01-11</th>\n",
       "      <td>0.002642</td>\n",
       "      <td>0.010624</td>\n",
       "      <td>0.006904</td>\n",
       "      <td>0.002317</td>\n",
       "      <td>-0.008177</td>\n",
       "      <td>0.004818</td>\n",
       "    </tr>\n",
       "  </tbody>\n",
       "</table>\n",
       "</div>"
      ],
      "text/plain": [
       "               topix     asics      gree      mufj      tgas    toyota\n",
       "Date                                                                  \n",
       "2013-01-07 -0.016788 -0.034095  0.029990 -0.025034  0.001437 -0.026130\n",
       "2013-01-08 -0.018741 -0.015741 -0.021596 -0.038120  0.001442 -0.028787\n",
       "2013-01-09 -0.000077  0.016188 -0.030403  0.006771 -0.005854  0.007462\n",
       "2013-01-10  0.003011 -0.005343 -0.010435  0.002338 -0.013098  0.001291\n",
       "2013-01-11  0.002642  0.010624  0.006904  0.002317 -0.008177  0.004818"
      ]
     },
     "execution_count": 6,
     "metadata": {},
     "output_type": "execute_result"
    }
   ],
   "source": [
    "ret_df=df[columns].copy() #計算した超過リターンを入れるデータフレームを準備しておく\n",
    "\n",
    "#超過リターンを計算する\n",
    "for i in columns:\n",
    "    ret_df[i]=np.log(df[i]).diff() - df['m10y']\n",
    "ret_df=ret_df.dropna() #delete the NaNs\n",
    "ret_df.head() #check the results"
   ]
  },
  {
   "cell_type": "code",
   "execution_count": 7,
   "metadata": {},
   "outputs": [
    {
     "data": {
      "text/html": [
       "<div>\n",
       "<style scoped>\n",
       "    .dataframe tbody tr th:only-of-type {\n",
       "        vertical-align: middle;\n",
       "    }\n",
       "\n",
       "    .dataframe tbody tr th {\n",
       "        vertical-align: top;\n",
       "    }\n",
       "\n",
       "    .dataframe thead th {\n",
       "        text-align: right;\n",
       "    }\n",
       "</style>\n",
       "<table border=\"1\" class=\"dataframe\">\n",
       "  <thead>\n",
       "    <tr style=\"text-align: right;\">\n",
       "      <th></th>\n",
       "      <th>ALPHA</th>\n",
       "      <th>BETA</th>\n",
       "    </tr>\n",
       "  </thead>\n",
       "  <tbody>\n",
       "    <tr>\n",
       "      <th>ASICS</th>\n",
       "      <td>NaN</td>\n",
       "      <td>NaN</td>\n",
       "    </tr>\n",
       "    <tr>\n",
       "      <th>ASICS_t</th>\n",
       "      <td>NaN</td>\n",
       "      <td>NaN</td>\n",
       "    </tr>\n",
       "    <tr>\n",
       "      <th>GREE</th>\n",
       "      <td>NaN</td>\n",
       "      <td>NaN</td>\n",
       "    </tr>\n",
       "    <tr>\n",
       "      <th>GREE_t</th>\n",
       "      <td>NaN</td>\n",
       "      <td>NaN</td>\n",
       "    </tr>\n",
       "    <tr>\n",
       "      <th>MUFJ</th>\n",
       "      <td>NaN</td>\n",
       "      <td>NaN</td>\n",
       "    </tr>\n",
       "    <tr>\n",
       "      <th>MUFJ_t</th>\n",
       "      <td>NaN</td>\n",
       "      <td>NaN</td>\n",
       "    </tr>\n",
       "    <tr>\n",
       "      <th>TGAS</th>\n",
       "      <td>NaN</td>\n",
       "      <td>NaN</td>\n",
       "    </tr>\n",
       "    <tr>\n",
       "      <th>TGAS_t</th>\n",
       "      <td>NaN</td>\n",
       "      <td>NaN</td>\n",
       "    </tr>\n",
       "    <tr>\n",
       "      <th>TOYOTA</th>\n",
       "      <td>NaN</td>\n",
       "      <td>NaN</td>\n",
       "    </tr>\n",
       "    <tr>\n",
       "      <th>TOYOTA_t</th>\n",
       "      <td>NaN</td>\n",
       "      <td>NaN</td>\n",
       "    </tr>\n",
       "  </tbody>\n",
       "</table>\n",
       "</div>"
      ],
      "text/plain": [
       "         ALPHA BETA\n",
       "ASICS      NaN  NaN\n",
       "ASICS_t    NaN  NaN\n",
       "GREE       NaN  NaN\n",
       "GREE_t     NaN  NaN\n",
       "MUFJ       NaN  NaN\n",
       "MUFJ_t     NaN  NaN\n",
       "TGAS       NaN  NaN\n",
       "TGAS_t     NaN  NaN\n",
       "TOYOTA     NaN  NaN\n",
       "TOYOTA_t   NaN  NaN"
      ]
     },
     "execution_count": 7,
     "metadata": {},
     "output_type": "execute_result"
    }
   ],
   "source": [
    "#空白の結果の表を作り、後で推定したOLSの結果を書き込む準備をする\n",
    "result_df = pd.DataFrame(columns=[\"ALPHA\", \"BETA\"],\n",
    "                                     index=[\n",
    "                                         \"ASICS\", \"ASICS_t\", \"GREE\", \"GREE_t\", \"MUFJ\",\n",
    "                                         \"MUFJ_t\", \"TGAS\", \"TGAS_t\", \"TOYOTA\", \"TOYOTA_t\"\n",
    "                                     ])\n",
    "result_df"
   ]
  },
  {
   "cell_type": "code",
   "execution_count": 8,
   "metadata": {},
   "outputs": [],
   "source": [
    "from scipy.optimize import leastsq\n",
    "import statsmodels.api as sm"
   ]
  },
  {
   "cell_type": "code",
   "execution_count": 9,
   "metadata": {},
   "outputs": [
    {
     "name": "stdout",
     "output_type": "stream",
     "text": [
      "results.params as follows:#########################################\n",
      "const    0.000766\n",
      "topix    1.194776\n",
      "dtype: float64\n",
      "results.summary as follows:#########################################\n",
      "                            OLS Regression Results                            \n",
      "==============================================================================\n",
      "Dep. Variable:                   mufj   R-squared:                       0.704\n",
      "Model:                            OLS   Adj. R-squared:                  0.703\n",
      "Method:                 Least Squares   F-statistic:                     1734.\n",
      "Date:                Mon, 24 Jan 2022   Prob (F-statistic):          5.35e-195\n",
      "Time:                        11:29:11   Log-Likelihood:                 2306.5\n",
      "No. Observations:                 732   AIC:                            -4609.\n",
      "Df Residuals:                     730   BIC:                            -4600.\n",
      "Df Model:                           1                                         \n",
      "Covariance Type:            nonrobust                                         \n",
      "==============================================================================\n",
      "                 coef    std err          t      P>|t|      [0.025      0.975]\n",
      "------------------------------------------------------------------------------\n",
      "const          0.0008      0.000      1.885      0.060   -3.16e-05       0.002\n",
      "topix          1.1948      0.029     41.638      0.000       1.138       1.251\n",
      "==============================================================================\n",
      "Omnibus:                      132.710   Durbin-Watson:                   2.254\n",
      "Prob(Omnibus):                  0.000   Jarque-Bera (JB):              399.970\n",
      "Skew:                           0.880   Prob(JB):                     1.40e-87\n",
      "Kurtosis:                       6.165   Cond. No.                         74.8\n",
      "==============================================================================\n",
      "\n",
      "Notes:\n",
      "[1] Standard Errors assume that the covariance matrix of the errors is correctly specified.\n",
      "results.tvalues as follows#########################################\n",
      "const     1.885427\n",
      "topix    41.637915\n",
      "dtype: float64\n"
     ]
    }
   ],
   "source": [
    "Y = ret_df['mufj']\n",
    "X = ret_df['topix']\n",
    "X = sm.add_constant(X)\n",
    "model = sm.OLS(Y,X)\n",
    "results = model.fit()\n",
    "print(\"results.params as follows:#########################################\")\n",
    "print(results.params)\n",
    "print(\"results.summary as follows:#########################################\")\n",
    "print(results.summary())\n",
    "print(\"results.tvalues as follows#########################################\")\n",
    "print(results.tvalues)"
   ]
  },
  {
   "cell_type": "code",
   "execution_count": 11,
   "metadata": {},
   "outputs": [
    {
     "name": "stdout",
     "output_type": "stream",
     "text": [
      "Index(['asics', 'gree', 'mufj', 'tgas', 'toyota'], dtype='object')\n"
     ]
    },
    {
     "data": {
      "text/html": [
       "<div>\n",
       "<style scoped>\n",
       "    .dataframe tbody tr th:only-of-type {\n",
       "        vertical-align: middle;\n",
       "    }\n",
       "\n",
       "    .dataframe tbody tr th {\n",
       "        vertical-align: top;\n",
       "    }\n",
       "\n",
       "    .dataframe thead th {\n",
       "        text-align: right;\n",
       "    }\n",
       "</style>\n",
       "<table border=\"1\" class=\"dataframe\">\n",
       "  <thead>\n",
       "    <tr style=\"text-align: right;\">\n",
       "      <th></th>\n",
       "      <th>ALPHA</th>\n",
       "      <th>BETA</th>\n",
       "    </tr>\n",
       "  </thead>\n",
       "  <tbody>\n",
       "    <tr>\n",
       "      <th>ASICS</th>\n",
       "      <td>-0.000274</td>\n",
       "      <td>0.926803</td>\n",
       "    </tr>\n",
       "    <tr>\n",
       "      <th>ASICS_t</th>\n",
       "      <td>-0.351238</td>\n",
       "      <td>16.822481</td>\n",
       "    </tr>\n",
       "    <tr>\n",
       "      <th>GREE</th>\n",
       "      <td>-0.003596</td>\n",
       "      <td>0.649199</td>\n",
       "    </tr>\n",
       "    <tr>\n",
       "      <th>GREE_t</th>\n",
       "      <td>-3.620029</td>\n",
       "      <td>9.253145</td>\n",
       "    </tr>\n",
       "    <tr>\n",
       "      <th>MUFJ</th>\n",
       "      <td>0.000766</td>\n",
       "      <td>1.194776</td>\n",
       "    </tr>\n",
       "    <tr>\n",
       "      <th>MUFJ_t</th>\n",
       "      <td>1.885427</td>\n",
       "      <td>41.637915</td>\n",
       "    </tr>\n",
       "    <tr>\n",
       "      <th>TGAS</th>\n",
       "      <td>-0.001522</td>\n",
       "      <td>0.737564</td>\n",
       "    </tr>\n",
       "    <tr>\n",
       "      <th>TGAS_t</th>\n",
       "      <td>-3.491725</td>\n",
       "      <td>23.957768</td>\n",
       "    </tr>\n",
       "    <tr>\n",
       "      <th>TOYOTA</th>\n",
       "      <td>0.000245</td>\n",
       "      <td>1.049521</td>\n",
       "    </tr>\n",
       "    <tr>\n",
       "      <th>TOYOTA_t</th>\n",
       "      <td>0.803635</td>\n",
       "      <td>48.79292</td>\n",
       "    </tr>\n",
       "  </tbody>\n",
       "</table>\n",
       "</div>"
      ],
      "text/plain": [
       "             ALPHA       BETA\n",
       "ASICS    -0.000274   0.926803\n",
       "ASICS_t  -0.351238  16.822481\n",
       "GREE     -0.003596   0.649199\n",
       "GREE_t   -3.620029   9.253145\n",
       "MUFJ      0.000766   1.194776\n",
       "MUFJ_t    1.885427  41.637915\n",
       "TGAS     -0.001522   0.737564\n",
       "TGAS_t   -3.491725  23.957768\n",
       "TOYOTA    0.000245   1.049521\n",
       "TOYOTA_t  0.803635   48.79292"
      ]
     },
     "execution_count": 11,
     "metadata": {},
     "output_type": "execute_result"
    }
   ],
   "source": [
    "from scipy.optimize import leastsq\n",
    "#それぞれの超過リターンのシングルインデックスモデルの推定\n",
    "\n",
    "columns1 = df.drop(['m10', 'm10y', 'topix'], axis=1).columns\n",
    "print(columns1)\n",
    "\n",
    "X = ret_df['topix']\n",
    "X = sm.add_constant(X)\n",
    "Y = ret_df[columns1[0]]\n",
    "model = sm.OLS(Y, X)\n",
    "for i in range(5):\n",
    "    Y = ret_df[columns1[i]]\n",
    "    model = sm.OLS(Y, X)\n",
    "    results = model.fit()\n",
    "    result_df['ALPHA'][i * 2] = results.params[0]\n",
    "    result_df['BETA'][i * 2] = results.params[1]\n",
    "    result_df['ALPHA'][i * 2 + 1] = results.tvalues[0]\n",
    "    result_df['BETA'][i * 2 + 1] = results.tvalues[1]\n",
    "result_df"
   ]
  },
  {
   "cell_type": "markdown",
   "metadata": {},
   "source": [
    "## 3.2 マルチファクターモデル"
   ]
  },
  {
   "cell_type": "markdown",
   "metadata": {},
   "source": [
    "\n",
    "<ul>\n",
    "<li>個々の証券のリターンを各種マクロ経済ファクターの変化と感応度の積の和で表現する。</li>\n",
    "</ul>\n",
    "<ul>$\n",
    "R_i(t)=\\alpha_i+\\beta_1 rgdp(t)+\\beta_2ir(t)+e_i(t)\n",
    "$\n",
    "</ul>\n",
    "</ol>\n",
    "<ul>\n",
    "<li>前節で感応度$\\beta$が１を上回った、<b>マクロ要因 </b>によって売上に影響がありそうな<br>\n",
    " トヨタ自動車の株価収益率を使って、\n",
    "\tマルチファクターモデルを推定する。</li>\n",
    "</ul>"
   ]
  },
  {
   "cell_type": "markdown",
   "metadata": {},
   "source": [
    "### 3.2.1 直観的な方法によるデータの作成"
   ]
  },
  {
   "cell_type": "markdown",
   "metadata": {},
   "source": [
    "<p>ここで、株価、国債の利回り：<b>月次データ</b>、\n",
    "\tGDP：<b>四半期データ</b>\n",
    "\t操作手順は次の通りである：</p>\n",
    "<li>Yahoo！Financeからトヨタ自動車の株価（月次）を取得 </li>\n",
    "<li>FREDから国債利回りデータ（月次）、GDPデータ（四半期）を取得 </li>\n",
    "<li>GDPデータ（四半期）を月度に度数変換する </li>\n",
    "<li>月次データを利用してマルチファクターモデルを推定する</li>"
   ]
  },
  {
   "cell_type": "code",
   "execution_count": 12,
   "metadata": {
    "scrolled": true
   },
   "outputs": [
    {
     "name": "stdout",
     "output_type": "stream",
     "text": [
      "            toyota  jp10b\n",
      "Date                     \n",
      "2000-01-01    4690  1.691\n",
      "2000-02-01    4390  1.796\n",
      "2000-03-01    5370  1.819\n",
      "2000-04-01    5370  1.740\n",
      "2000-05-01    4890  1.705\n",
      "                 gdp\n",
      "Date                \n",
      "2000-01-01  479896.6\n",
      "2000-04-01  482128.3\n",
      "2000-07-01  482257.6\n",
      "2000-10-01  486937.3\n",
      "2001-01-01  490542.7\n",
      "<class 'pandas.core.frame.DataFrame'>\n",
      "DatetimeIndex: 204 entries, 2000-01-01 to 2016-12-01\n",
      "Data columns (total 2 columns):\n",
      " #   Column  Non-Null Count  Dtype  \n",
      "---  ------  --------------  -----  \n",
      " 0   toyota  204 non-null    int64  \n",
      " 1   jp10b   204 non-null    float64\n",
      "dtypes: float64(1), int64(1)\n",
      "memory usage: 4.8 KB\n",
      "None\n",
      "<class 'pandas.core.frame.DataFrame'>\n",
      "DatetimeIndex: 68 entries, 2000-01-01 to 2016-10-01\n",
      "Data columns (total 1 columns):\n",
      " #   Column  Non-Null Count  Dtype  \n",
      "---  ------  --------------  -----  \n",
      " 0   gdp     68 non-null     float64\n",
      "dtypes: float64(1)\n",
      "memory usage: 1.1 KB\n",
      "None\n"
     ]
    }
   ],
   "source": [
    "#データの読み込み Chap3.2_data_monthly-quarterly.xlsx\n",
    "df_M = pd.read_csv(\n",
    "    'D:\\\\Chrome Download\\\\07973_1\\\\Chap3_marketRiskAnalysis\\\\data\\\\Chap3.2_data_monthly.csv',\n",
    "    header=0)\n",
    "df_gdp_Q=pd.read_excel(\n",
    "    'D:\\\\Chrome Download\\\\07973_1\\\\Chap3_marketRiskAnalysis\\\\data\\\\Chap3.2_data_monthly-quarterly.xlsx',\n",
    "    header=0,\n",
    "    sheet_name='Sheet1')\n",
    "df_M['Date'] = pd.to_datetime(df_M['Date'])\n",
    "df_M.set_index('Date', inplace=True)  # set index\n",
    "df_gdp_Q['Date'] = pd.to_datetime(df_gdp_Q['Date'])\n",
    "df_gdp_Q.set_index('Date', inplace=True)  # set index\n",
    "print(df_M.head())\n",
    "print(df_gdp_Q.head())\n",
    "print(df_M.info())\n",
    "print(df_gdp_Q.info())"
   ]
  },
  {
   "cell_type": "code",
   "execution_count": 13,
   "metadata": {},
   "outputs": [
    {
     "data": {
      "text/html": [
       "<div>\n",
       "<style scoped>\n",
       "    .dataframe tbody tr th:only-of-type {\n",
       "        vertical-align: middle;\n",
       "    }\n",
       "\n",
       "    .dataframe tbody tr th {\n",
       "        vertical-align: top;\n",
       "    }\n",
       "\n",
       "    .dataframe thead th {\n",
       "        text-align: right;\n",
       "    }\n",
       "</style>\n",
       "<table border=\"1\" class=\"dataframe\">\n",
       "  <thead>\n",
       "    <tr style=\"text-align: right;\">\n",
       "      <th></th>\n",
       "      <th>toyota</th>\n",
       "      <th>jp10b</th>\n",
       "      <th>rtyt</th>\n",
       "      <th>ir</th>\n",
       "    </tr>\n",
       "    <tr>\n",
       "      <th>Date</th>\n",
       "      <th></th>\n",
       "      <th></th>\n",
       "      <th></th>\n",
       "      <th></th>\n",
       "    </tr>\n",
       "  </thead>\n",
       "  <tbody>\n",
       "    <tr>\n",
       "      <th>2000-01-01</th>\n",
       "      <td>4690</td>\n",
       "      <td>1.691</td>\n",
       "      <td>NaN</td>\n",
       "      <td>NaN</td>\n",
       "    </tr>\n",
       "    <tr>\n",
       "      <th>2000-02-01</th>\n",
       "      <td>4390</td>\n",
       "      <td>1.796</td>\n",
       "      <td>-6.610336</td>\n",
       "      <td>6.024190</td>\n",
       "    </tr>\n",
       "    <tr>\n",
       "      <th>2000-03-01</th>\n",
       "      <td>5370</td>\n",
       "      <td>1.819</td>\n",
       "      <td>20.149868</td>\n",
       "      <td>1.272493</td>\n",
       "    </tr>\n",
       "    <tr>\n",
       "      <th>2000-04-01</th>\n",
       "      <td>5370</td>\n",
       "      <td>1.740</td>\n",
       "      <td>0.000000</td>\n",
       "      <td>-4.440179</td>\n",
       "    </tr>\n",
       "    <tr>\n",
       "      <th>2000-05-01</th>\n",
       "      <td>4890</td>\n",
       "      <td>1.705</td>\n",
       "      <td>-9.363561</td>\n",
       "      <td>-2.032000</td>\n",
       "    </tr>\n",
       "  </tbody>\n",
       "</table>\n",
       "</div>"
      ],
      "text/plain": [
       "            toyota  jp10b       rtyt        ir\n",
       "Date                                          \n",
       "2000-01-01    4690  1.691        NaN       NaN\n",
       "2000-02-01    4390  1.796  -6.610336  6.024190\n",
       "2000-03-01    5370  1.819  20.149868  1.272493\n",
       "2000-04-01    5370  1.740   0.000000 -4.440179\n",
       "2000-05-01    4890  1.705  -9.363561 -2.032000"
      ]
     },
     "execution_count": 13,
     "metadata": {},
     "output_type": "execute_result"
    }
   ],
   "source": [
    "df_M['rtyt'] = np.log(df_M['toyota']).diff()*100  #calculate the monthly return of toyota stock\n",
    "df_M['ir'] = np.log(df_M['jp10b']).diff()*100  #calculate the monthly return of interest rate\n",
    "# df_M = df_M.dropna()\n",
    "df_M.head()"
   ]
  },
  {
   "cell_type": "code",
   "execution_count": 14,
   "metadata": {},
   "outputs": [
    {
     "data": {
      "text/plain": [
       "<matplotlib.legend.Legend at 0x27283aaf9d0>"
      ]
     },
     "execution_count": 14,
     "metadata": {},
     "output_type": "execute_result"
    },
    {
     "data": {
      "image/png": "[encoded data removed]",
      "text/plain": [
       "<Figure size 1000x500 with 1 Axes>"
      ]
     },
     "metadata": {
      "needs_background": "light"
     },
     "output_type": "display_data"
    }
   ],
   "source": [
    "# Display the data\n",
    "plt.figure(figsize=(10, 5), dpi=100)\n",
    "df_M['toyota'].plot(label='toyota_prices',color='purple')\n",
    "plt.xlabel('Date')\n",
    "plt.ylabel('toyota_prices')\n",
    "plt.legend()"
   ]
  },
  {
   "cell_type": "code",
   "execution_count": 15,
   "metadata": {},
   "outputs": [
    {
     "data": {
      "text/plain": [
       "<matplotlib.legend.Legend at 0x272840e0b50>"
      ]
     },
     "execution_count": 15,
     "metadata": {},
     "output_type": "execute_result"
    },
    {
     "data": {
      "image/png": "[encoded data removed]",
      "text/plain": [
       "<Figure size 1000x500 with 1 Axes>"
      ]
     },
     "metadata": {
      "needs_background": "light"
     },
     "output_type": "display_data"
    }
   ],
   "source": [
    "# Display the data\n",
    "plt.figure(figsize=(10, 5), dpi=100)\n",
    "df_M['jp10b'].plot(label='Long-Term Government Bond Yields: 10-year',color='pink')\n",
    "plt.xlabel('Date')\n",
    "plt.ylabel('Long-Term Government Bond Yields: 10-year')\n",
    "plt.legend()"
   ]
  },
  {
   "cell_type": "code",
   "execution_count": 16,
   "metadata": {
    "scrolled": false
   },
   "outputs": [
    {
     "name": "stdout",
     "output_type": "stream",
     "text": [
      "                 gdp\n",
      "Date                \n",
      "2000-01-01  479896.6\n",
      "2000-04-01  482128.3\n",
      "2000-07-01  482257.6\n",
      "2000-10-01  486937.3\n",
      "2001-01-01  490542.7\n",
      "                      gdp\n",
      "Date                     \n",
      "2000-01-31  479896.600000\n",
      "2000-02-29  481412.700275\n",
      "2000-03-31  482077.923849\n",
      "2000-04-30  482128.300000\n",
      "2000-05-31  481933.337986\n",
      "                 gdp\n",
      "Date                \n",
      "2015-10-01  538159.7\n",
      "2016-01-01  541961.9\n",
      "2016-04-01  540782.5\n",
      "2016-07-01  541856.1\n",
      "2016-10-01  543436.5\n",
      "                      gdp\n",
      "Date                     \n",
      "2016-06-30  541150.532001\n",
      "2016-07-31  541856.100000\n",
      "2016-08-31  542619.209918\n",
      "2016-09-30  543204.605952\n",
      "2016-10-31  543436.500000\n"
     ]
    },
    {
     "data": {
      "text/plain": [
       "<matplotlib.legend.Legend at 0x27283f5b5b0>"
      ]
     },
     "execution_count": 16,
     "metadata": {},
     "output_type": "execute_result"
    },
    {
     "data": {
      "image/png": "[encoded data removed]",
      "text/plain": [
       "<Figure size 1000x500 with 1 Axes>"
      ]
     },
     "metadata": {
      "needs_background": "light"
     },
     "output_type": "display_data"
    }
   ],
   "source": [
    "gdp_M = df_gdp_Q.resample('M').last().interpolate(method='cubic')  #[cubic interpolation]のメソッドで月次データに度数変換\n",
    "print(df_gdp_Q.head(5))\n",
    "print(gdp_M.head(5))\n",
    "print(df_gdp_Q.tail(5))\n",
    "print(gdp_M.tail(5))\n",
    "# Display the fit\n",
    "plt.figure(figsize=(10, 5), dpi=100)\n",
    "df_gdp_Q['gdp'].plot(linestyle='none', marker='D', label='gdp_quarterly',color='orange')\n",
    "gdp_M['gdp'].plot(label='gdp_monthly',color='green')\n",
    "plt.xlabel('Date')\n",
    "plt.ylabel('Values')\n",
    "plt.legend()"
   ]
  },
  {
   "cell_type": "code",
   "execution_count": 17,
   "metadata": {},
   "outputs": [
    {
     "name": "stdout",
     "output_type": "stream",
     "text": [
      "202\n"
     ]
    },
    {
     "data": {
      "text/plain": [
       "<matplotlib.legend.Legend at 0x27283fbcb80>"
      ]
     },
     "execution_count": 17,
     "metadata": {},
     "output_type": "execute_result"
    },
    {
     "data": {
      "image/png": "[encoded data removed]",
      "text/plain": [
       "<Figure size 1000x500 with 1 Axes>"
      ]
     },
     "metadata": {
      "needs_background": "light"
     },
     "output_type": "display_data"
    }
   ],
   "source": [
    "gdp_M['rgdp'] = np.log(gdp_M['gdp']).diff() * 100  #calculate the monthly change rate of gdp\n",
    "# gdp_M = gdp_M.dropna()\n",
    "print(len(gdp_M))\n",
    "# Display the data\n",
    "plt.figure(figsize=(10, 5), dpi=100)\n",
    "gdp_M['gdp'].plot(label='gdp_change_rate')\n",
    "plt.xlabel('Date')\n",
    "plt.ylabel('gdp_change_rate')\n",
    "plt.legend()"
   ]
  },
  {
   "cell_type": "code",
   "execution_count": 18,
   "metadata": {},
   "outputs": [
    {
     "name": "stdout",
     "output_type": "stream",
     "text": [
      "192\n",
      "192\n"
     ]
    }
   ],
   "source": [
    "df_M=df_M.dropna()\n",
    "df_M=df_M[0:192]\n",
    "gdp_M=gdp_M.dropna()[0:192]\n",
    "print(len(df_M))\n",
    "print(len(gdp_M))"
   ]
  },
  {
   "cell_type": "code",
   "execution_count": 19,
   "metadata": {},
   "outputs": [
    {
     "name": "stdout",
     "output_type": "stream",
     "text": [
      "            toyota  jp10b       rtyt        ir  const      rgdp\n",
      "key_0                                                          \n",
      "2000-02-01    4390  1.796  -6.610336  6.024190      1  0.315424\n",
      "2000-03-01    5370  1.819  20.149868  1.272493      1  0.138086\n",
      "2000-04-01    5370  1.740   0.000000 -4.440179      1  0.010449\n",
      "2000-05-01    4890  1.705  -9.363561 -2.032000      1 -0.040446\n",
      "2000-06-01    4830  1.664  -1.234584 -2.434077      1 -0.016027\n",
      "Date\n",
      "2000-02-01    -6.610336\n",
      "2000-03-01    20.149868\n",
      "2000-04-01     0.000000\n",
      "2000-05-01    -9.363561\n",
      "2000-06-01    -1.234584\n",
      "Name: rtyt, dtype: float64\n"
     ]
    }
   ],
   "source": [
    "# merge(df_M['const'],df_M['ir'],gdp_M['rgdp'])\n",
    "Y = df_M['rtyt']\n",
    "df_M['const']=1\n",
    "X=pd.merge(df_M,gdp_M['rgdp'].dropna(),on=df_M.index)\n",
    "X.set_index('key_0', inplace=True)\n",
    "print(X.head())\n",
    "print(Y.head())"
   ]
  },
  {
   "cell_type": "code",
   "execution_count": 20,
   "metadata": {},
   "outputs": [
    {
     "name": "stdout",
     "output_type": "stream",
     "text": [
      "            const      rgdp        ir\n",
      "key_0                                \n",
      "2000-02-01      1  0.315424  6.024190\n",
      "2000-03-01      1  0.138086  1.272493\n",
      "2000-04-01      1  0.010449 -4.440179\n",
      "2000-05-01      1 -0.040446 -2.032000\n",
      "2000-06-01      1 -0.016027 -2.434077\n"
     ]
    }
   ],
   "source": [
    "X1=X[['const','rgdp','ir']]\n",
    "X1.head()"
   ]
  },
  {
   "cell_type": "code",
   "execution_count": 21,
   "metadata": {},
   "outputs": [
    {
     "data": {
      "text/html": [
       "<table class=\"simpletable\">\n",
       "<caption>OLS Regression Results</caption>\n",
       "<tr>\n",
       "  <th>Dep. Variable:</th>          <td>rtyt</td>       <th>  R-squared:         </th> <td>   0.087</td>\n",
       "</tr>\n",
       "<tr>\n",
       "  <th>Model:</th>                   <td>OLS</td>       <th>  Adj. R-squared:    </th> <td>   0.077</td>\n",
       "</tr>\n",
       "<tr>\n",
       "  <th>Method:</th>             <td>Least Squares</td>  <th>  F-statistic:       </th> <td>   8.992</td>\n",
       "</tr>\n",
       "<tr>\n",
       "  <th>Date:</th>             <td>Mon, 24 Jan 2022</td> <th>  Prob (F-statistic):</th> <td>0.000186</td>\n",
       "</tr>\n",
       "<tr>\n",
       "  <th>Time:</th>                 <td>11:29:12</td>     <th>  Log-Likelihood:    </th> <td> -637.60</td>\n",
       "</tr>\n",
       "<tr>\n",
       "  <th>No. Observations:</th>      <td>   192</td>      <th>  AIC:               </th> <td>   1281.</td>\n",
       "</tr>\n",
       "<tr>\n",
       "  <th>Df Residuals:</th>          <td>   189</td>      <th>  BIC:               </th> <td>   1291.</td>\n",
       "</tr>\n",
       "<tr>\n",
       "  <th>Df Model:</th>              <td>     2</td>      <th>                     </th>     <td> </td>   \n",
       "</tr>\n",
       "<tr>\n",
       "  <th>Covariance Type:</th>      <td>nonrobust</td>    <th>                     </th>     <td> </td>   \n",
       "</tr>\n",
       "</table>\n",
       "<table class=\"simpletable\">\n",
       "<tr>\n",
       "    <td></td>       <th>coef</th>     <th>std err</th>      <th>t</th>      <th>P>|t|</th>  <th>[0.025</th>    <th>0.975]</th>  \n",
       "</tr>\n",
       "<tr>\n",
       "  <th>const</th> <td>    0.0662</td> <td>    0.497</td> <td>    0.133</td> <td> 0.894</td> <td>   -0.915</td> <td>    1.047</td>\n",
       "</tr>\n",
       "<tr>\n",
       "  <th>rgdp</th>  <td>    4.5754</td> <td>    1.284</td> <td>    3.563</td> <td> 0.000</td> <td>    2.042</td> <td>    7.109</td>\n",
       "</tr>\n",
       "<tr>\n",
       "  <th>ir</th>    <td>    0.0885</td> <td>    0.038</td> <td>    2.308</td> <td> 0.022</td> <td>    0.013</td> <td>    0.164</td>\n",
       "</tr>\n",
       "</table>\n",
       "<table class=\"simpletable\">\n",
       "<tr>\n",
       "  <th>Omnibus:</th>       <td> 0.488</td> <th>  Durbin-Watson:     </th> <td>   1.806</td>\n",
       "</tr>\n",
       "<tr>\n",
       "  <th>Prob(Omnibus):</th> <td> 0.784</td> <th>  Jarque-Bera (JB):  </th> <td>   0.592</td>\n",
       "</tr>\n",
       "<tr>\n",
       "  <th>Skew:</th>          <td> 0.112</td> <th>  Prob(JB):          </th> <td>   0.744</td>\n",
       "</tr>\n",
       "<tr>\n",
       "  <th>Kurtosis:</th>      <td> 2.844</td> <th>  Cond. No.          </th> <td>    33.8</td>\n",
       "</tr>\n",
       "</table><br/><br/>Notes:<br/>[1] Standard Errors assume that the covariance matrix of the errors is correctly specified."
      ],
      "text/plain": [
       "<class 'statsmodels.iolib.summary.Summary'>\n",
       "\"\"\"\n",
       "                            OLS Regression Results                            \n",
       "==============================================================================\n",
       "Dep. Variable:                   rtyt   R-squared:                       0.087\n",
       "Model:                            OLS   Adj. R-squared:                  0.077\n",
       "Method:                 Least Squares   F-statistic:                     8.992\n",
       "Date:                Mon, 24 Jan 2022   Prob (F-statistic):           0.000186\n",
       "Time:                        11:29:12   Log-Likelihood:                -637.60\n",
       "No. Observations:                 192   AIC:                             1281.\n",
       "Df Residuals:                     189   BIC:                             1291.\n",
       "Df Model:                           2                                         \n",
       "Covariance Type:            nonrobust                                         \n",
       "==============================================================================\n",
       "                 coef    std err          t      P>|t|      [0.025      0.975]\n",
       "------------------------------------------------------------------------------\n",
       "const          0.0662      0.497      0.133      0.894      -0.915       1.047\n",
       "rgdp           4.5754      1.284      3.563      0.000       2.042       7.109\n",
       "ir             0.0885      0.038      2.308      0.022       0.013       0.164\n",
       "==============================================================================\n",
       "Omnibus:                        0.488   Durbin-Watson:                   1.806\n",
       "Prob(Omnibus):                  0.784   Jarque-Bera (JB):                0.592\n",
       "Skew:                           0.112   Prob(JB):                        0.744\n",
       "Kurtosis:                       2.844   Cond. No.                         33.8\n",
       "==============================================================================\n",
       "\n",
       "Notes:\n",
       "[1] Standard Errors assume that the covariance matrix of the errors is correctly specified.\n",
       "\"\"\""
      ]
     },
     "execution_count": 21,
     "metadata": {},
     "output_type": "execute_result"
    }
   ],
   "source": [
    "model1 = sm.OLS(Y,X1)\n",
    "results1 = model1.fit()\n",
    "results1.summary()"
   ]
  },
  {
   "cell_type": "markdown",
   "metadata": {},
   "source": [
    "### 3.2.2 ローリング回帰"
   ]
  },
  {
   "cell_type": "markdown",
   "metadata": {},
   "source": [
    "<ol>\n",
    "<li>ここまでは最小二乗法による回帰分析は、回帰係数の推定値は一定で変化がないと考え方。</li>\n",
    "<li>しかし、リーマンショックや大震災などの負のショックや、<br>\n",
    "    アベノミクスなどの一定期間持続性のある正の影響がある場合、</li>\n",
    "<ul>\n",
    "    <li>これらの回帰係数は変わるという視点から、ローリング回帰という手法を利用する。</li>\n",
    " <li>      \n",
    "\t\t$Y_i=\\beta_0+\\beta_1 X_i+\\beta_2 Z_i+\\mu_i$\n",
    " </li>\n",
    "<li>window lengthを決めて、この期間のデータを用いて、一回目の推定を行い、<br>\n",
    "    終了したら、時点を$n$期に移動して回帰を再実行する。</li></ul>\n",
    "</ol>"
   ]
  },
  {
   "cell_type": "code",
   "execution_count": 22,
   "metadata": {
    "scrolled": true
   },
   "outputs": [
    {
     "data": {
      "text/html": [
       "<div>\n",
       "<style scoped>\n",
       "    .dataframe tbody tr th:only-of-type {\n",
       "        vertical-align: middle;\n",
       "    }\n",
       "\n",
       "    .dataframe tbody tr th {\n",
       "        vertical-align: top;\n",
       "    }\n",
       "\n",
       "    .dataframe thead th {\n",
       "        text-align: right;\n",
       "    }\n",
       "</style>\n",
       "<table border=\"1\" class=\"dataframe\">\n",
       "  <thead>\n",
       "    <tr style=\"text-align: right;\">\n",
       "      <th></th>\n",
       "      <th>const</th>\n",
       "      <th>rgdp</th>\n",
       "      <th>ir</th>\n",
       "    </tr>\n",
       "    <tr>\n",
       "      <th>key_0</th>\n",
       "      <th></th>\n",
       "      <th></th>\n",
       "      <th></th>\n",
       "    </tr>\n",
       "  </thead>\n",
       "  <tbody>\n",
       "    <tr>\n",
       "      <th>2000-02-01</th>\n",
       "      <td>NaN</td>\n",
       "      <td>NaN</td>\n",
       "      <td>NaN</td>\n",
       "    </tr>\n",
       "    <tr>\n",
       "      <th>2000-03-01</th>\n",
       "      <td>NaN</td>\n",
       "      <td>NaN</td>\n",
       "      <td>NaN</td>\n",
       "    </tr>\n",
       "    <tr>\n",
       "      <th>2000-04-01</th>\n",
       "      <td>NaN</td>\n",
       "      <td>NaN</td>\n",
       "      <td>NaN</td>\n",
       "    </tr>\n",
       "    <tr>\n",
       "      <th>2000-05-01</th>\n",
       "      <td>NaN</td>\n",
       "      <td>NaN</td>\n",
       "      <td>NaN</td>\n",
       "    </tr>\n",
       "    <tr>\n",
       "      <th>2000-06-01</th>\n",
       "      <td>NaN</td>\n",
       "      <td>NaN</td>\n",
       "      <td>NaN</td>\n",
       "    </tr>\n",
       "    <tr>\n",
       "      <th>...</th>\n",
       "      <td>...</td>\n",
       "      <td>...</td>\n",
       "      <td>...</td>\n",
       "    </tr>\n",
       "    <tr>\n",
       "      <th>2015-09-01</th>\n",
       "      <td>1.333288</td>\n",
       "      <td>4.466329</td>\n",
       "      <td>0.151495</td>\n",
       "    </tr>\n",
       "    <tr>\n",
       "      <th>2015-10-01</th>\n",
       "      <td>1.537634</td>\n",
       "      <td>4.081520</td>\n",
       "      <td>0.138299</td>\n",
       "    </tr>\n",
       "    <tr>\n",
       "      <th>2015-11-01</th>\n",
       "      <td>1.293703</td>\n",
       "      <td>4.521718</td>\n",
       "      <td>0.107586</td>\n",
       "    </tr>\n",
       "    <tr>\n",
       "      <th>2015-12-01</th>\n",
       "      <td>1.241527</td>\n",
       "      <td>4.452267</td>\n",
       "      <td>0.111612</td>\n",
       "    </tr>\n",
       "    <tr>\n",
       "      <th>2016-01-01</th>\n",
       "      <td>1.057948</td>\n",
       "      <td>4.826199</td>\n",
       "      <td>0.076399</td>\n",
       "    </tr>\n",
       "  </tbody>\n",
       "</table>\n",
       "<p>192 rows × 3 columns</p>\n",
       "</div>"
      ],
      "text/plain": [
       "               const      rgdp        ir\n",
       "key_0                                   \n",
       "2000-02-01       NaN       NaN       NaN\n",
       "2000-03-01       NaN       NaN       NaN\n",
       "2000-04-01       NaN       NaN       NaN\n",
       "2000-05-01       NaN       NaN       NaN\n",
       "2000-06-01       NaN       NaN       NaN\n",
       "...              ...       ...       ...\n",
       "2015-09-01  1.333288  4.466329  0.151495\n",
       "2015-10-01  1.537634  4.081520  0.138299\n",
       "2015-11-01  1.293703  4.521718  0.107586\n",
       "2015-12-01  1.241527  4.452267  0.111612\n",
       "2016-01-01  1.057948  4.826199  0.076399\n",
       "\n",
       "[192 rows x 3 columns]"
      ]
     },
     "execution_count": 22,
     "metadata": {},
     "output_type": "execute_result"
    }
   ],
   "source": [
    "#Rolling Regression必要のパケージ\n",
    "import seaborn\n",
    "import statsmodels.api as sm\n",
    "from statsmodels.regression.rolling import RollingOLS\n",
    "\n",
    "rols = RollingOLS(Y, X1, window=60) #window sizeを60（5年間）に設定してローリング回帰を実行する\n",
    "rres = rols.fit() \n",
    "params = rres.params.copy()\n",
    "params.index = X1.index\n",
    "params"
   ]
  },
  {
   "cell_type": "code",
   "execution_count": 23,
   "metadata": {},
   "outputs": [
    {
     "data": {
      "text/plain": [
       "<matplotlib.legend.Legend at 0x272856719d0>"
      ]
     },
     "execution_count": 23,
     "metadata": {},
     "output_type": "execute_result"
    },
    {
     "data": {
      "image/png": "[encoded data removed]",
      "text/plain": [
       "<Figure size 1000x500 with 1 Axes>"
      ]
     },
     "metadata": {
      "needs_background": "light"
     },
     "output_type": "display_data"
    }
   ],
   "source": [
    "# Display the data #GDP成長率の感応度の推移グラフを描く\n",
    "plt.figure(figsize=(10, 5), dpi=100)\n",
    "plt.title('Graph of Sensitivity of GDP Growth Rate',fontsize = 12)\n",
    "params['rgdp'].plot(label='Coefficient of GDP Growth Rate',color='red')\n",
    "#OLS推定結果の感応度をグラフに追加  results1.params[1]\n",
    "plt.hlines(results1.params[1],xmin=X1.index[0],xmax=X1.index[len(X1)-1], linestyles='--', colors='g', label='OLS estimation static result of the sensitivity') \n",
    "plt.xlabel('Date')\n",
    "plt.ylabel('Graph of Sensitivity of GDP Growth Rate')\n",
    "plt.legend()"
   ]
  },
  {
   "cell_type": "code",
   "execution_count": 24,
   "metadata": {},
   "outputs": [
    {
     "data": {
      "text/plain": [
       "<matplotlib.legend.Legend at 0x2728570bd30>"
      ]
     },
     "execution_count": 24,
     "metadata": {},
     "output_type": "execute_result"
    },
    {
     "data": {
      "image/png": "[encoded data removed]",
      "text/plain": [
       "<Figure size 1000x500 with 1 Axes>"
      ]
     },
     "metadata": {
      "needs_background": "light"
     },
     "output_type": "display_data"
    }
   ],
   "source": [
    "# Display the data #金利変化率の感応度の推移グラフを描く\n",
    "plt.figure(figsize=(10, 5), dpi=100)\n",
    "plt.title('Graph of Sensitivity of Intrest Rate',fontsize = 12)\n",
    "params['ir'].plot(label='Coefficient of Intrest Rate')\n",
    "#OLS推定結果の感応度をグラフに追加  results1.params[2]\n",
    "plt.hlines(results1.params[2],xmin=X1.index[0],xmax=X1.index[len(X1)-1], linestyles='--', colors='purple', label='OLS estimation static result of the sensitivity') \n",
    "plt.xlabel('Date')\n",
    "plt.ylabel('Graph of Sensitivity of Intrest Rate')\n",
    "plt.legend()"
   ]
  },
  {
   "cell_type": "markdown",
   "metadata": {},
   "source": [
    "### 3.2.3 MIDAS回帰"
   ]
  },
  {
   "cell_type": "markdown",
   "metadata": {},
   "source": [
    "1. ここまでは、四半期のLFデータにスプライン曲線をHFデータにフィットさせて、\n",
    "    月次の架空データを作成して回帰分析を行う。\n",
    "2. 観測度数の異なるデータを利用してモデル推定を行う\n",
    "    MIDAS（Mixed Data Sampling）推定という回帰方法を紹介 \n",
    "* メリット：HF、LFどちらに集約しなくても、データの確率的変動の情報を保ったまま、\n",
    "    回帰分析に利用できる\n",
    "  * $y_t=\\beta_0+\\beta_1 B(L^{1/m};\\theta)x_t^{(m)}+\\epsilon_t^{(m)}$\n",
    "    -  $y_t$は年次頻度、$x_t$は四半期頻度、$m=4$。\n",
    "    -  同様に、$y_t$は四半期頻度、$x_t$は月度頻度、$m=3$。\n",
    "    -  ここで、$B(L)$はMIDAS回帰の四半期データの個別ラグに対応したパラメータ。\n",
    "    -  $B(L^{1/m};\\theta)=\\Sigma_{k=0}^KB(k;\\theta)L^{k/m}$。"
   ]
  },
  {
   "cell_type": "markdown",
   "metadata": {},
   "source": [
    "#### 3.2.3  (1) MIDAS回帰 乱数で生成したデータで、quarter_y=intercept+quarter_z+month_x+errorの場合"
   ]
  },
  {
   "cell_type": "code",
   "execution_count": 25,
   "metadata": {},
   "outputs": [],
   "source": [
    "import datetime\n",
    "from sklearn import linear_model\n",
    "import time\n",
    "import warnings\n",
    "warnings.filterwarnings(\"ignore\")\n",
    "clf = linear_model.LinearRegression()"
   ]
  },
  {
   "cell_type": "code",
   "execution_count": 26,
   "metadata": {
    "scrolled": true
   },
   "outputs": [],
   "source": [
    "Date_M = pd.date_range((\"1990/1/1\"), (\"2010/12/31\"), freq='m')\n",
    "n = len(Date_M)\n",
    "\n",
    "np.random.seed(10)\n",
    "mu, sigma = 0, 1\n",
    "e=np.random.normal(mu, sigma, n) #標準正規分布に従うｎ個の、平均値が０、標準偏差が１の乱数を生成する\n",
    "x = 2*np.random.normal(mu, sigma, n)  #標準正規分布に従うｎ個の、平均値が０、標準偏差が１の、値が2倍となる乱数を生成する\n",
    "z = 3*np.random.normal(mu, sigma, n)  #標準正規分布に従うｎ個の、平均値が０、標準偏差が１の、値が3倍となる乱数を生成する\n",
    "\n",
    "b0 = 1  #ｙを作成するための係数を指定\n",
    "b1 = 1.5  ##ｙを作成するための係数を指定\n",
    "b2 = -0.7  ##ｙを作成するための係数を指定\n",
    "y = b0+b1*x+b2*z+e  #ｙを作成する\n",
    "\n",
    "x=pd.DataFrame(x,index=Date_M)\n",
    "z=pd.DataFrame(z,index=Date_M)\n",
    "X2=pd.merge(x,z,on=x.index)\n",
    "X2.columns = ['Date', 'x','z']\n",
    "X2.set_index('Date', inplace=True) \n",
    "X2=sm.add_constant(X2)\n",
    "\n",
    "model2 = sm.OLS(y,X2)\n",
    "results2 = model2.fit()\n",
    "# results2.summary()  #ここで一度回帰して、ｚの係数が-0.7142であることを確認する"
   ]
  },
  {
   "cell_type": "code",
   "execution_count": 27,
   "metadata": {},
   "outputs": [],
   "source": [
    "# Date_Q = pd.date_range((\"1990/1/1\"), (\"2010/12/31\"), freq='q')  ##1990年から2010年までの四半期日付のベクトルを用意する\n",
    "# t = len(Date_Q)\n",
    "\n",
    "y=pd.DataFrame(y,index=Date_M)\n",
    "quarter_variables=pd.merge(y,z,on=y.index)\n",
    "quarter_variables.columns = ['Date', 'y','z']\n",
    "quarter_variables.set_index('Date', inplace=True)\n",
    "# print(quarter_variables.head())\n",
    "\n",
    "quarter_aggregate =quarter_variables.resample('Q').sum()  #HFをLFに集約する\n",
    "# print(quarter_aggregate.head())"
   ]
  },
  {
   "cell_type": "code",
   "execution_count": 28,
   "metadata": {},
   "outputs": [],
   "source": [
    "Y3=quarter_aggregate['y']\n",
    "Z=quarter_aggregate['z']\n",
    "Z=sm.add_constant(Z)\n",
    "\n",
    "model3= sm.OLS(Y3,Z) #四半期頻度のデータで、zをyに単純なOLSを推定する\n",
    "results3 = model3.fit()\n",
    "# results3.summary()  #ここで一度回帰して、ｚの係数が-0.6017であることを確認する"
   ]
  },
  {
   "cell_type": "code",
   "execution_count": 29,
   "metadata": {},
   "outputs": [],
   "source": [
    "quarter_y=pd.DataFrame(Y3,index=Y3.index)\n",
    "quarter_y.columns = ['quarter_y']\n",
    "quarter_z=quarter_aggregate['z']\n",
    "quarter_z=pd.DataFrame(quarter_z,index=quarter_z.index)\n",
    "quarter_z.columns = ['quarter_z']\n",
    "month_x=pd.DataFrame(x,index=Date_M)\n",
    "month_x.columns = ['month_x']"
   ]
  },
  {
   "cell_type": "code",
   "execution_count": 30,
   "metadata": {},
   "outputs": [],
   "source": [
    "quarter_y.index = pd.to_datetime(quarter_y.index, format='%m/%d/%Y').strftime('%Y-%m-01')\n",
    "month_x.index = pd.to_datetime(month_x.index, format='%m/%d/%Y').strftime('%Y-%m-01')\n",
    "quarter_z.index = pd.to_datetime(quarter_z.index, format='%m/%d/%Y').strftime('%Y-%m-01')"
   ]
  },
  {
   "cell_type": "code",
   "execution_count": 31,
   "metadata": {},
   "outputs": [
    {
     "data": {
      "text/html": [
       "<div>\n",
       "<style scoped>\n",
       "    .dataframe tbody tr th:only-of-type {\n",
       "        vertical-align: middle;\n",
       "    }\n",
       "\n",
       "    .dataframe tbody tr th {\n",
       "        vertical-align: top;\n",
       "    }\n",
       "\n",
       "    .dataframe thead th {\n",
       "        text-align: right;\n",
       "    }\n",
       "</style>\n",
       "<table border=\"1\" class=\"dataframe\">\n",
       "  <thead>\n",
       "    <tr style=\"text-align: right;\">\n",
       "      <th></th>\n",
       "      <th>quarter_y</th>\n",
       "      <th>month_x</th>\n",
       "      <th>quarter_z</th>\n",
       "    </tr>\n",
       "  </thead>\n",
       "  <tbody>\n",
       "    <tr>\n",
       "      <th>1990-01-01</th>\n",
       "      <td>NaN</td>\n",
       "      <td>-1.907065</td>\n",
       "      <td>NaN</td>\n",
       "    </tr>\n",
       "    <tr>\n",
       "      <th>1990-02-01</th>\n",
       "      <td>NaN</td>\n",
       "      <td>1.176081</td>\n",
       "      <td>NaN</td>\n",
       "    </tr>\n",
       "    <tr>\n",
       "      <th>1990-03-01</th>\n",
       "      <td>0.931654</td>\n",
       "      <td>0.137603</td>\n",
       "      <td>2.399629</td>\n",
       "    </tr>\n",
       "    <tr>\n",
       "      <th>1990-04-01</th>\n",
       "      <td>NaN</td>\n",
       "      <td>2.824129</td>\n",
       "      <td>NaN</td>\n",
       "    </tr>\n",
       "    <tr>\n",
       "      <th>1990-05-01</th>\n",
       "      <td>NaN</td>\n",
       "      <td>-1.372431</td>\n",
       "      <td>NaN</td>\n",
       "    </tr>\n",
       "  </tbody>\n",
       "</table>\n",
       "</div>"
      ],
      "text/plain": [
       "            quarter_y   month_x  quarter_z\n",
       "1990-01-01        NaN -1.907065        NaN\n",
       "1990-02-01        NaN  1.176081        NaN\n",
       "1990-03-01   0.931654  0.137603   2.399629\n",
       "1990-04-01        NaN  2.824129        NaN\n",
       "1990-05-01        NaN -1.372431        NaN"
      ]
     },
     "execution_count": 31,
     "metadata": {},
     "output_type": "execute_result"
    }
   ],
   "source": [
    "df3 = pd.merge(quarter_y, month_x, left_index=True, right_index=True, how='outer')\n",
    "df3=pd.merge(df3,quarter_z,left_index=True, right_index=True, how='outer')\n",
    "df3.head()"
   ]
  },
  {
   "cell_type": "code",
   "execution_count": 32,
   "metadata": {},
   "outputs": [
    {
     "data": {
      "text/plain": [
       "<AxesSubplot:>"
      ]
     },
     "execution_count": 32,
     "metadata": {},
     "output_type": "execute_result"
    },
    {
     "data": {
      "image/png": "[encoded data removed]",
      "text/plain": [
       "<Figure size 1080x288 with 1 Axes>"
      ]
     },
     "metadata": {
      "needs_background": "light"
     },
     "output_type": "display_data"
    }
   ],
   "source": [
    "# Plot the sample data\n",
    "df3[['quarter_y','month_x','quarter_z']].plot(figsize=(15,4), style=['o','--','o'])"
   ]
  },
  {
   "cell_type": "code",
   "execution_count": 33,
   "metadata": {},
   "outputs": [
    {
     "data": {
      "text/html": [
       "<div>\n",
       "<style scoped>\n",
       "    .dataframe tbody tr th:only-of-type {\n",
       "        vertical-align: middle;\n",
       "    }\n",
       "\n",
       "    .dataframe tbody tr th {\n",
       "        vertical-align: top;\n",
       "    }\n",
       "\n",
       "    .dataframe thead th {\n",
       "        text-align: right;\n",
       "    }\n",
       "</style>\n",
       "<table border=\"1\" class=\"dataframe\">\n",
       "  <thead>\n",
       "    <tr style=\"text-align: right;\">\n",
       "      <th></th>\n",
       "      <th>quarter_y</th>\n",
       "      <th>month_x</th>\n",
       "      <th>quarter_z</th>\n",
       "      <th>period</th>\n",
       "    </tr>\n",
       "  </thead>\n",
       "  <tbody>\n",
       "    <tr>\n",
       "      <th>1990-01-01</th>\n",
       "      <td>NaN</td>\n",
       "      <td>-1.907065</td>\n",
       "      <td>NaN</td>\n",
       "      <td>1</td>\n",
       "    </tr>\n",
       "    <tr>\n",
       "      <th>1990-02-01</th>\n",
       "      <td>NaN</td>\n",
       "      <td>1.176081</td>\n",
       "      <td>NaN</td>\n",
       "      <td>2</td>\n",
       "    </tr>\n",
       "    <tr>\n",
       "      <th>1990-03-01</th>\n",
       "      <td>0.931654</td>\n",
       "      <td>0.137603</td>\n",
       "      <td>2.399629</td>\n",
       "      <td>3</td>\n",
       "    </tr>\n",
       "    <tr>\n",
       "      <th>1990-04-01</th>\n",
       "      <td>NaN</td>\n",
       "      <td>2.824129</td>\n",
       "      <td>NaN</td>\n",
       "      <td>1</td>\n",
       "    </tr>\n",
       "    <tr>\n",
       "      <th>1990-05-01</th>\n",
       "      <td>NaN</td>\n",
       "      <td>-1.372431</td>\n",
       "      <td>NaN</td>\n",
       "      <td>2</td>\n",
       "    </tr>\n",
       "  </tbody>\n",
       "</table>\n",
       "</div>"
      ],
      "text/plain": [
       "            quarter_y   month_x  quarter_z  period\n",
       "1990-01-01        NaN -1.907065        NaN       1\n",
       "1990-02-01        NaN  1.176081        NaN       2\n",
       "1990-03-01   0.931654  0.137603   2.399629       3\n",
       "1990-04-01        NaN  2.824129        NaN       1\n",
       "1990-05-01        NaN -1.372431        NaN       2"
      ]
     },
     "execution_count": 33,
     "metadata": {},
     "output_type": "execute_result"
    }
   ],
   "source": [
    "df3['period'] = pd.to_datetime(df3.index.to_series()).apply(\n",
    "    lambda x: 1 if x.month in [1, 4, 7, 10] else (2 if x.month in [2, 5, 8, 11] else 3))\n",
    "\n",
    "# df3 = df3[df3.index != '1990-01-01']\n",
    "df3.head()"
   ]
  },
  {
   "cell_type": "code",
   "execution_count": 34,
   "metadata": {},
   "outputs": [],
   "source": [
    "df4 = pd.DataFrame(columns=[\n",
    "                   'quarter_y', 'month_x_Q1', 'month_x_Q2', 'month_x_Q3','quarter_z']) \n",
    "for date, quarter_y,quarter_z, month_x, period in zip(df3.index, df3.quarter_y,df3.quarter_z, df3.month_x, df3.period):\n",
    "    if period == 1:\n",
    "        q1 = month_x\n",
    "    elif period == 2:\n",
    "        q2 = month_x\n",
    "    else:\n",
    "        record = pd.Series([quarter_y, q1, q2, month_x,quarter_z],\n",
    "                           index=df4.columns, name=date)\n",
    "        df4 = df4.append(record)\n",
    "df4.index.name = 'DATE'"
   ]
  },
  {
   "cell_type": "code",
   "execution_count": 35,
   "metadata": {},
   "outputs": [
    {
     "data": {
      "text/html": [
       "<div>\n",
       "<style scoped>\n",
       "    .dataframe tbody tr th:only-of-type {\n",
       "        vertical-align: middle;\n",
       "    }\n",
       "\n",
       "    .dataframe tbody tr th {\n",
       "        vertical-align: top;\n",
       "    }\n",
       "\n",
       "    .dataframe thead th {\n",
       "        text-align: right;\n",
       "    }\n",
       "</style>\n",
       "<table border=\"1\" class=\"dataframe\">\n",
       "  <thead>\n",
       "    <tr style=\"text-align: right;\">\n",
       "      <th></th>\n",
       "      <th>quarter_y</th>\n",
       "      <th>month_x_Q1</th>\n",
       "      <th>month_x_Q2</th>\n",
       "      <th>month_x_Q3</th>\n",
       "      <th>quarter_z</th>\n",
       "    </tr>\n",
       "    <tr>\n",
       "      <th>DATE</th>\n",
       "      <th></th>\n",
       "      <th></th>\n",
       "      <th></th>\n",
       "      <th></th>\n",
       "      <th></th>\n",
       "    </tr>\n",
       "  </thead>\n",
       "  <tbody>\n",
       "    <tr>\n",
       "      <th>1990-03-01</th>\n",
       "      <td>0.931654</td>\n",
       "      <td>-1.907065</td>\n",
       "      <td>1.176081</td>\n",
       "      <td>0.137603</td>\n",
       "      <td>2.399629</td>\n",
       "    </tr>\n",
       "    <tr>\n",
       "      <th>1990-06-01</th>\n",
       "      <td>4.806447</td>\n",
       "      <td>2.824129</td>\n",
       "      <td>-1.372431</td>\n",
       "      <td>1.095888</td>\n",
       "      <td>2.725425</td>\n",
       "    </tr>\n",
       "    <tr>\n",
       "      <th>1990-09-01</th>\n",
       "      <td>9.989841</td>\n",
       "      <td>-0.072765</td>\n",
       "      <td>-1.694033</td>\n",
       "      <td>3.804608</td>\n",
       "      <td>-5.078248</td>\n",
       "    </tr>\n",
       "    <tr>\n",
       "      <th>1990-12-01</th>\n",
       "      <td>5.018014</td>\n",
       "      <td>0.559211</td>\n",
       "      <td>1.240509</td>\n",
       "      <td>-2.137135</td>\n",
       "      <td>-1.518106</td>\n",
       "    </tr>\n",
       "    <tr>\n",
       "      <th>1991-03-01</th>\n",
       "      <td>2.884506</td>\n",
       "      <td>-1.445241</td>\n",
       "      <td>0.168279</td>\n",
       "      <td>-1.168910</td>\n",
       "      <td>-4.659252</td>\n",
       "    </tr>\n",
       "  </tbody>\n",
       "</table>\n",
       "</div>"
      ],
      "text/plain": [
       "            quarter_y  month_x_Q1  month_x_Q2  month_x_Q3  quarter_z\n",
       "DATE                                                                \n",
       "1990-03-01   0.931654   -1.907065    1.176081    0.137603   2.399629\n",
       "1990-06-01   4.806447    2.824129   -1.372431    1.095888   2.725425\n",
       "1990-09-01   9.989841   -0.072765   -1.694033    3.804608  -5.078248\n",
       "1990-12-01   5.018014    0.559211    1.240509   -2.137135  -1.518106\n",
       "1991-03-01   2.884506   -1.445241    0.168279   -1.168910  -4.659252"
      ]
     },
     "execution_count": 35,
     "metadata": {},
     "output_type": "execute_result"
    }
   ],
   "source": [
    "df4.head()"
   ]
  },
  {
   "cell_type": "code",
   "execution_count": 36,
   "metadata": {},
   "outputs": [
    {
     "data": {
      "text/plain": [
       "array([ 1.57846477,  1.49322526,  1.38219808, -0.68878792])"
      ]
     },
     "execution_count": 36,
     "metadata": {},
     "output_type": "execute_result"
    }
   ],
   "source": [
    "# 目的変数(Y)、説明変数(X)\n",
    "Y = np.array(df4['quarter_y'])\n",
    "X = np.array(df4[['month_x_Q1', 'month_x_Q2', 'month_x_Q3','quarter_z']])\n",
    "\n",
    "# 予測モデルを作成\n",
    "clf.fit(X, Y)\n",
    "clf.fit(X, Y).coef_"
   ]
  },
  {
   "cell_type": "code",
   "execution_count": 37,
   "metadata": {},
   "outputs": [
    {
     "name": "stdout",
     "output_type": "stream",
     "text": [
      "3.0828885440925156\n",
      "         Name  Coefficients\n",
      "3   quarter_z     -0.688788\n",
      "2  month_x_Q3      1.382198\n",
      "1  month_x_Q2      1.493225\n",
      "0  month_x_Q1      1.578465\n"
     ]
    }
   ],
   "source": [
    "# 偏回帰係数\n",
    "ab = pd.DataFrame({\"Name\": ['month_x_Q1', 'month_x_Q2', 'month_x_Q3','quarter_z'],\n",
    "                  \"Coefficients\": clf.coef_}).sort_values(by='Coefficients')\n",
    "for index, row in ab.iterrows():\n",
    "    if row.Name == 'quarter_z':\n",
    "        b4 = row.Coefficients\n",
    "    if row.Name == 'month_x_Q3':\n",
    "        b3 = row.Coefficients\n",
    "    elif row.Name == 'month_x_Q2':\n",
    "        b2 = row.Coefficients\n",
    "    else:\n",
    "        b1 = row.Coefficients\n",
    "# 切片\n",
    "print(clf.intercept_)\n",
    "a = clf.intercept_\n",
    "print(ab)"
   ]
  },
  {
   "cell_type": "markdown",
   "metadata": {},
   "source": [
    "#### 3.2.3  (2) 実際のデータで、quarter_y=intercept+month_x+errorの場合#"
   ]
  },
  {
   "cell_type": "code",
   "execution_count": 38,
   "metadata": {},
   "outputs": [],
   "source": [
    "gdp = pd.read_csv('D:\\\\Users\\\\Jupyter Notebook\\\\MixDataSampling-Japan_GDP\\\\opt\\\\import\\\\GDP_JAPAN.csv',\n",
    "                  parse_dates=['DATE'], index_col='DATE')\n",
    "#鉱工業指数（生産指数) iip\n",
    "iip = pd.read_csv('D:\\\\Users\\\\Jupyter Notebook\\\\MixDataSampling-Japan_GDP\\\\opt\\\\import\\\\IIP.csv', parse_dates=['DATE'], index_col='DATE')"
   ]
  },
  {
   "cell_type": "code",
   "execution_count": 39,
   "metadata": {},
   "outputs": [
    {
     "data": {
      "text/html": [
       "<div>\n",
       "<style scoped>\n",
       "    .dataframe tbody tr th:only-of-type {\n",
       "        vertical-align: middle;\n",
       "    }\n",
       "\n",
       "    .dataframe tbody tr th {\n",
       "        vertical-align: top;\n",
       "    }\n",
       "\n",
       "    .dataframe thead th {\n",
       "        text-align: right;\n",
       "    }\n",
       "</style>\n",
       "<table border=\"1\" class=\"dataframe\">\n",
       "  <thead>\n",
       "    <tr style=\"text-align: right;\">\n",
       "      <th></th>\n",
       "      <th>GDP_CYOY</th>\n",
       "      <th>IIP_YOY</th>\n",
       "    </tr>\n",
       "    <tr>\n",
       "      <th>DATE</th>\n",
       "      <th></th>\n",
       "      <th></th>\n",
       "    </tr>\n",
       "  </thead>\n",
       "  <tbody>\n",
       "    <tr>\n",
       "      <th>2013-01-01</th>\n",
       "      <td>1.3</td>\n",
       "      <td>-5.6</td>\n",
       "    </tr>\n",
       "    <tr>\n",
       "      <th>2013-02-01</th>\n",
       "      <td>NaN</td>\n",
       "      <td>-6.1</td>\n",
       "    </tr>\n",
       "    <tr>\n",
       "      <th>2013-03-01</th>\n",
       "      <td>NaN</td>\n",
       "      <td>10.4</td>\n",
       "    </tr>\n",
       "    <tr>\n",
       "      <th>2013-04-01</th>\n",
       "      <td>1.4</td>\n",
       "      <td>-2.9</td>\n",
       "    </tr>\n",
       "    <tr>\n",
       "      <th>2013-05-01</th>\n",
       "      <td>NaN</td>\n",
       "      <td>-2.1</td>\n",
       "    </tr>\n",
       "  </tbody>\n",
       "</table>\n",
       "</div>"
      ],
      "text/plain": [
       "            GDP_CYOY  IIP_YOY\n",
       "DATE                         \n",
       "2013-01-01       1.3     -5.6\n",
       "2013-02-01       NaN     -6.1\n",
       "2013-03-01       NaN     10.4\n",
       "2013-04-01       1.4     -2.9\n",
       "2013-05-01       NaN     -2.1"
      ]
     },
     "execution_count": 39,
     "metadata": {},
     "output_type": "execute_result"
    }
   ],
   "source": [
    "gdp.index = pd.to_datetime(gdp.index, format='%m/%d/%Y').strftime('%Y-%m-01')\n",
    "iip.index = pd.to_datetime(iip.index, format='%m/%d/%Y').strftime('%Y-%m-01')\n",
    "\n",
    "df = pd.merge(gdp, iip, left_index=True, right_index=True, how='outer')\n",
    "df.head()"
   ]
  },
  {
   "cell_type": "code",
   "execution_count": 40,
   "metadata": {},
   "outputs": [
    {
     "data": {
      "text/plain": [
       "<AxesSubplot:xlabel='DATE'>"
      ]
     },
     "execution_count": 40,
     "metadata": {},
     "output_type": "execute_result"
    },
    {
     "data": {
      "image/png": "[encoded data removed]",
      "text/plain": [
       "<Figure size 1080x288 with 1 Axes>"
      ]
     },
     "metadata": {
      "needs_background": "light"
     },
     "output_type": "display_data"
    }
   ],
   "source": [
    "# Plot the sample data\n",
    "df[['GDP_CYOY','IIP_YOY']].plot(figsize=(15,4), style=['o','--'])"
   ]
  },
  {
   "cell_type": "code",
   "execution_count": 41,
   "metadata": {},
   "outputs": [],
   "source": [
    "df['period'] = pd.to_datetime(df.index.to_series()).apply(\n",
    "    lambda x: 3 if x.month in [1, 4, 7, 10] else (1 if x.month in [2, 5, 8, 11] else 2))\n",
    "\n",
    "df = df[df.index != '2013-01-01']"
   ]
  },
  {
   "cell_type": "code",
   "execution_count": 42,
   "metadata": {},
   "outputs": [],
   "source": [
    "df2 = pd.DataFrame(columns=[\n",
    "                   'GDP_CYOY', 'IIP_YOY_Q1', 'IIP_YOY_Q2', 'IIP_YOY_Q3'])\n",
    "for date, GDP_CYOY, IIP_YOY, period in zip(df.index, df.GDP_CYOY, df.IIP_YOY, df.period):\n",
    "    if period == 1:\n",
    "        q1 = IIP_YOY\n",
    "    elif period == 2:\n",
    "        q2 = IIP_YOY\n",
    "    else:\n",
    "        record = pd.Series([GDP_CYOY, q1, q2, IIP_YOY],\n",
    "                           index=df2.columns, name=date)\n",
    "        df2 = df2.append(record)\n",
    "df2.index.name = 'DATE'"
   ]
  },
  {
   "cell_type": "code",
   "execution_count": 43,
   "metadata": {},
   "outputs": [
    {
     "data": {
      "text/html": [
       "<div>\n",
       "<style scoped>\n",
       "    .dataframe tbody tr th:only-of-type {\n",
       "        vertical-align: middle;\n",
       "    }\n",
       "\n",
       "    .dataframe tbody tr th {\n",
       "        vertical-align: top;\n",
       "    }\n",
       "\n",
       "    .dataframe thead th {\n",
       "        text-align: right;\n",
       "    }\n",
       "</style>\n",
       "<table border=\"1\" class=\"dataframe\">\n",
       "  <thead>\n",
       "    <tr style=\"text-align: right;\">\n",
       "      <th></th>\n",
       "      <th>GDP_CYOY</th>\n",
       "      <th>IIP_YOY_Q1</th>\n",
       "      <th>IIP_YOY_Q2</th>\n",
       "      <th>IIP_YOY_Q3</th>\n",
       "    </tr>\n",
       "    <tr>\n",
       "      <th>DATE</th>\n",
       "      <th></th>\n",
       "      <th></th>\n",
       "      <th></th>\n",
       "      <th></th>\n",
       "    </tr>\n",
       "  </thead>\n",
       "  <tbody>\n",
       "    <tr>\n",
       "      <th>2013-04-01</th>\n",
       "      <td>1.4</td>\n",
       "      <td>-6.1</td>\n",
       "      <td>10.4</td>\n",
       "      <td>-2.9</td>\n",
       "    </tr>\n",
       "    <tr>\n",
       "      <th>2013-07-01</th>\n",
       "      <td>0.6</td>\n",
       "      <td>-2.1</td>\n",
       "      <td>-0.8</td>\n",
       "      <td>1.1</td>\n",
       "    </tr>\n",
       "    <tr>\n",
       "      <th>2013-10-01</th>\n",
       "      <td>-0.3</td>\n",
       "      <td>-0.2</td>\n",
       "      <td>1.4</td>\n",
       "      <td>-0.1</td>\n",
       "    </tr>\n",
       "    <tr>\n",
       "      <th>2014-01-01</th>\n",
       "      <td>1.3</td>\n",
       "      <td>0.0</td>\n",
       "      <td>7.1</td>\n",
       "      <td>-3.5</td>\n",
       "    </tr>\n",
       "    <tr>\n",
       "      <th>2014-04-01</th>\n",
       "      <td>-2.8</td>\n",
       "      <td>-5.3</td>\n",
       "      <td>14.3</td>\n",
       "      <td>-5.5</td>\n",
       "    </tr>\n",
       "  </tbody>\n",
       "</table>\n",
       "</div>"
      ],
      "text/plain": [
       "            GDP_CYOY  IIP_YOY_Q1  IIP_YOY_Q2  IIP_YOY_Q3\n",
       "DATE                                                    \n",
       "2013-04-01       1.4        -6.1        10.4        -2.9\n",
       "2013-07-01       0.6        -2.1        -0.8         1.1\n",
       "2013-10-01      -0.3        -0.2         1.4        -0.1\n",
       "2014-01-01       1.3         0.0         7.1        -3.5\n",
       "2014-04-01      -2.8        -5.3        14.3        -5.5"
      ]
     },
     "execution_count": 43,
     "metadata": {},
     "output_type": "execute_result"
    }
   ],
   "source": [
    "df2.head()"
   ]
  },
  {
   "cell_type": "code",
   "execution_count": 44,
   "metadata": {},
   "outputs": [
    {
     "data": {
      "text/plain": [
       "array([-0.30522824, -0.05012821,  0.3563465 ])"
      ]
     },
     "execution_count": 44,
     "metadata": {},
     "output_type": "execute_result"
    }
   ],
   "source": [
    "# 目的変数(Y)、説明変数(X)\n",
    "Y = np.array(df2['GDP_CYOY'])\n",
    "X = np.array(df2[['IIP_YOY_Q1', 'IIP_YOY_Q2', 'IIP_YOY_Q3']])\n",
    "\n",
    "# 予測モデルを作成\n",
    "clf.fit(X, Y)\n",
    "clf.fit(X, Y).coef_"
   ]
  },
  {
   "cell_type": "code",
   "execution_count": 45,
   "metadata": {
    "scrolled": false
   },
   "outputs": [
    {
     "name": "stdout",
     "output_type": "stream",
     "text": [
      "0.20947307695146347\n"
     ]
    },
    {
     "data": {
      "text/plain": [
       "<AxesSubplot:xlabel='DATE'>"
      ]
     },
     "execution_count": 45,
     "metadata": {},
     "output_type": "execute_result"
    },
    {
     "data": {
      "text/plain": [
       "<Figure size 432x288 with 0 Axes>"
      ]
     },
     "metadata": {},
     "output_type": "display_data"
    },
    {
     "data": {
      "image/png": "[encoded data removed]",
      "text/plain": [
       "<Figure size 432x288 with 1 Axes>"
      ]
     },
     "metadata": {
      "needs_background": "light"
     },
     "output_type": "display_data"
    }
   ],
   "source": [
    "# 偏回帰係数\n",
    "ab = pd.DataFrame({\"Name\": ['IIP_YOY_Q1', 'IIP_YOY_Q2', 'IIP_YOY_Q3'],\n",
    "                  \"Coefficients\": clf.coef_}).sort_values(by='Coefficients')\n",
    "for index, row in ab.iterrows():\n",
    "    if row.Name == 'IIP_YOY_Q3':\n",
    "        b3 = row.Coefficients\n",
    "    elif row.Name == 'IIP_YOY_Q2':\n",
    "        b2 = row.Coefficients\n",
    "    else:\n",
    "        b1 = row.Coefficients\n",
    "# 切片\n",
    "print(clf.intercept_)\n",
    "a = clf.intercept_\n",
    "\n",
    "df2['NOWCAST'] = df2.apply(lambda x: a + b1*x['IIP_YOY_Q1'] +\n",
    "                           b2*x['IIP_YOY_Q2'] + b3*x['IIP_YOY_Q3'], axis=1)\n",
    "\n",
    "newdf2 = df2.copy()\n",
    "newdf2 = newdf2.drop('IIP_YOY_Q1', axis=1)\n",
    "newdf2 = newdf2.drop('IIP_YOY_Q2', axis=1)\n",
    "newdf2 = newdf2.drop('IIP_YOY_Q3', axis=1)\n",
    "plt.figure()\n",
    "newdf2.plot()"
   ]
  },
  {
   "cell_type": "markdown",
   "metadata": {},
   "source": [
    "#### 3.2.3  (3) 実際のデータで、quarter_y=intercept+quarter_z+month_x+errorの場合"
   ]
  },
  {
   "cell_type": "code",
   "execution_count": 46,
   "metadata": {},
   "outputs": [],
   "source": [
    "gdp = pd.read_csv(\n",
    "    'D:\\\\Users\\\\Jupyter Notebook\\\\MixDataSampling-Japan_GDP\\\\opt\\\\import\\\\GDP_JAPAN.csv',\n",
    "    parse_dates=['DATE'],\n",
    "    index_col='DATE')\n",
    "#鉱工業指数（生産指数) iip\n",
    "iip = pd.read_csv(\n",
    "    'D:\\\\Users\\\\Jupyter Notebook\\\\MixDataSampling-Japan_GDP\\\\opt\\\\import\\\\IIP.csv',\n",
    "    parse_dates=['DATE'],\n",
    "    index_col='DATE')\n",
    "quarter_dummy=gdp*(-0.61)"
   ]
  },
  {
   "cell_type": "code",
   "execution_count": 47,
   "metadata": {},
   "outputs": [],
   "source": [
    "gdp.index = pd.to_datetime(gdp.index, format='%m/%d/%Y').strftime('%Y-%m-01')\n",
    "iip.index = pd.to_datetime(iip.index, format='%m/%d/%Y').strftime('%Y-%m-01')\n",
    "quarter_dummy.index = pd.to_datetime(quarter_dummy.index, format='%m/%d/%Y').strftime('%Y-%m-01')"
   ]
  },
  {
   "cell_type": "code",
   "execution_count": 48,
   "metadata": {},
   "outputs": [
    {
     "data": {
      "text/html": [
       "<div>\n",
       "<style scoped>\n",
       "    .dataframe tbody tr th:only-of-type {\n",
       "        vertical-align: middle;\n",
       "    }\n",
       "\n",
       "    .dataframe tbody tr th {\n",
       "        vertical-align: top;\n",
       "    }\n",
       "\n",
       "    .dataframe thead th {\n",
       "        text-align: right;\n",
       "    }\n",
       "</style>\n",
       "<table border=\"1\" class=\"dataframe\">\n",
       "  <thead>\n",
       "    <tr style=\"text-align: right;\">\n",
       "      <th></th>\n",
       "      <th>GDP_CYOY_x</th>\n",
       "      <th>IIP_YOY</th>\n",
       "      <th>GDP_CYOY_y</th>\n",
       "    </tr>\n",
       "    <tr>\n",
       "      <th>DATE</th>\n",
       "      <th></th>\n",
       "      <th></th>\n",
       "      <th></th>\n",
       "    </tr>\n",
       "  </thead>\n",
       "  <tbody>\n",
       "    <tr>\n",
       "      <th>2013-01-01</th>\n",
       "      <td>1.3</td>\n",
       "      <td>-5.6</td>\n",
       "      <td>-0.793</td>\n",
       "    </tr>\n",
       "    <tr>\n",
       "      <th>2013-02-01</th>\n",
       "      <td>NaN</td>\n",
       "      <td>-6.1</td>\n",
       "      <td>NaN</td>\n",
       "    </tr>\n",
       "    <tr>\n",
       "      <th>2013-03-01</th>\n",
       "      <td>NaN</td>\n",
       "      <td>10.4</td>\n",
       "      <td>NaN</td>\n",
       "    </tr>\n",
       "    <tr>\n",
       "      <th>2013-04-01</th>\n",
       "      <td>1.4</td>\n",
       "      <td>-2.9</td>\n",
       "      <td>-0.854</td>\n",
       "    </tr>\n",
       "    <tr>\n",
       "      <th>2013-05-01</th>\n",
       "      <td>NaN</td>\n",
       "      <td>-2.1</td>\n",
       "      <td>NaN</td>\n",
       "    </tr>\n",
       "  </tbody>\n",
       "</table>\n",
       "</div>"
      ],
      "text/plain": [
       "            GDP_CYOY_x  IIP_YOY  GDP_CYOY_y\n",
       "DATE                                       \n",
       "2013-01-01         1.3     -5.6      -0.793\n",
       "2013-02-01         NaN     -6.1         NaN\n",
       "2013-03-01         NaN     10.4         NaN\n",
       "2013-04-01         1.4     -2.9      -0.854\n",
       "2013-05-01         NaN     -2.1         NaN"
      ]
     },
     "execution_count": 48,
     "metadata": {},
     "output_type": "execute_result"
    }
   ],
   "source": [
    "df = pd.merge(gdp, iip, left_index=True, right_index=True, how='outer')\n",
    "df=pd.merge(df,quarter_dummy,left_index=True, right_index=True, how='outer')\n",
    "df.head()"
   ]
  },
  {
   "cell_type": "code",
   "execution_count": 49,
   "metadata": {},
   "outputs": [
    {
     "data": {
      "text/plain": [
       "<AxesSubplot:xlabel='DATE'>"
      ]
     },
     "execution_count": 49,
     "metadata": {},
     "output_type": "execute_result"
    },
    {
     "data": {
      "image/png": "[encoded data removed]",
      "text/plain": [
       "<Figure size 1080x288 with 1 Axes>"
      ]
     },
     "metadata": {
      "needs_background": "light"
     },
     "output_type": "display_data"
    }
   ],
   "source": [
    "# Plot the sample data\n",
    "df[['GDP_CYOY_x','IIP_YOY','GDP_CYOY_y']].plot(figsize=(15,4), style=['o','--','o'])"
   ]
  },
  {
   "cell_type": "code",
   "execution_count": 50,
   "metadata": {},
   "outputs": [
    {
     "data": {
      "text/html": [
       "<div>\n",
       "<style scoped>\n",
       "    .dataframe tbody tr th:only-of-type {\n",
       "        vertical-align: middle;\n",
       "    }\n",
       "\n",
       "    .dataframe tbody tr th {\n",
       "        vertical-align: top;\n",
       "    }\n",
       "\n",
       "    .dataframe thead th {\n",
       "        text-align: right;\n",
       "    }\n",
       "</style>\n",
       "<table border=\"1\" class=\"dataframe\">\n",
       "  <thead>\n",
       "    <tr style=\"text-align: right;\">\n",
       "      <th></th>\n",
       "      <th>GDP_CYOY_x</th>\n",
       "      <th>IIP_YOY</th>\n",
       "      <th>GDP_CYOY_y</th>\n",
       "      <th>period</th>\n",
       "    </tr>\n",
       "    <tr>\n",
       "      <th>DATE</th>\n",
       "      <th></th>\n",
       "      <th></th>\n",
       "      <th></th>\n",
       "      <th></th>\n",
       "    </tr>\n",
       "  </thead>\n",
       "  <tbody>\n",
       "    <tr>\n",
       "      <th>2013-02-01</th>\n",
       "      <td>NaN</td>\n",
       "      <td>-6.1</td>\n",
       "      <td>NaN</td>\n",
       "      <td>1</td>\n",
       "    </tr>\n",
       "    <tr>\n",
       "      <th>2013-03-01</th>\n",
       "      <td>NaN</td>\n",
       "      <td>10.4</td>\n",
       "      <td>NaN</td>\n",
       "      <td>2</td>\n",
       "    </tr>\n",
       "    <tr>\n",
       "      <th>2013-04-01</th>\n",
       "      <td>1.4</td>\n",
       "      <td>-2.9</td>\n",
       "      <td>-0.854</td>\n",
       "      <td>3</td>\n",
       "    </tr>\n",
       "    <tr>\n",
       "      <th>2013-05-01</th>\n",
       "      <td>NaN</td>\n",
       "      <td>-2.1</td>\n",
       "      <td>NaN</td>\n",
       "      <td>1</td>\n",
       "    </tr>\n",
       "    <tr>\n",
       "      <th>2013-06-01</th>\n",
       "      <td>NaN</td>\n",
       "      <td>-0.8</td>\n",
       "      <td>NaN</td>\n",
       "      <td>2</td>\n",
       "    </tr>\n",
       "  </tbody>\n",
       "</table>\n",
       "</div>"
      ],
      "text/plain": [
       "            GDP_CYOY_x  IIP_YOY  GDP_CYOY_y  period\n",
       "DATE                                               \n",
       "2013-02-01         NaN     -6.1         NaN       1\n",
       "2013-03-01         NaN     10.4         NaN       2\n",
       "2013-04-01         1.4     -2.9      -0.854       3\n",
       "2013-05-01         NaN     -2.1         NaN       1\n",
       "2013-06-01         NaN     -0.8         NaN       2"
      ]
     },
     "execution_count": 50,
     "metadata": {},
     "output_type": "execute_result"
    }
   ],
   "source": [
    "df['period'] = pd.to_datetime(df.index.to_series()).apply(\n",
    "    lambda x: 3 if x.month in [1, 4, 7, 10] else (1 if x.month in [2, 5, 8, 11] else 2))\n",
    "\n",
    "df = df[df.index != '2013-01-01']\n",
    "df.head()"
   ]
  },
  {
   "cell_type": "code",
   "execution_count": 51,
   "metadata": {},
   "outputs": [],
   "source": [
    "df2 = pd.DataFrame(columns=[\n",
    "                   'GDP_CYOY_x', 'IIP_YOY_Q1', 'IIP_YOY_Q2', 'IIP_YOY_Q3','GDP_CYOY_y'])\n",
    "for date, GDP_CYOY_x,GDP_CYOY_y, IIP_YOY, period in zip(df.index, df.GDP_CYOY_x,df.GDP_CYOY_y, df.IIP_YOY, df.period):\n",
    "    if period == 1:\n",
    "        q1 = IIP_YOY\n",
    "    elif period == 2:\n",
    "        q2 = IIP_YOY\n",
    "    else:\n",
    "        record = pd.Series([GDP_CYOY_x, q1, q2, IIP_YOY,GDP_CYOY_y],\n",
    "                           index=df2.columns, name=date)\n",
    "        df2 = df2.append(record)\n",
    "df2.index.name = 'DATE'"
   ]
  },
  {
   "cell_type": "code",
   "execution_count": 52,
   "metadata": {},
   "outputs": [
    {
     "data": {
      "text/html": [
       "<div>\n",
       "<style scoped>\n",
       "    .dataframe tbody tr th:only-of-type {\n",
       "        vertical-align: middle;\n",
       "    }\n",
       "\n",
       "    .dataframe tbody tr th {\n",
       "        vertical-align: top;\n",
       "    }\n",
       "\n",
       "    .dataframe thead th {\n",
       "        text-align: right;\n",
       "    }\n",
       "</style>\n",
       "<table border=\"1\" class=\"dataframe\">\n",
       "  <thead>\n",
       "    <tr style=\"text-align: right;\">\n",
       "      <th></th>\n",
       "      <th>GDP_CYOY_x</th>\n",
       "      <th>IIP_YOY_Q1</th>\n",
       "      <th>IIP_YOY_Q2</th>\n",
       "      <th>IIP_YOY_Q3</th>\n",
       "      <th>GDP_CYOY_y</th>\n",
       "    </tr>\n",
       "    <tr>\n",
       "      <th>DATE</th>\n",
       "      <th></th>\n",
       "      <th></th>\n",
       "      <th></th>\n",
       "      <th></th>\n",
       "      <th></th>\n",
       "    </tr>\n",
       "  </thead>\n",
       "  <tbody>\n",
       "    <tr>\n",
       "      <th>2013-04-01</th>\n",
       "      <td>1.4</td>\n",
       "      <td>-6.1</td>\n",
       "      <td>10.4</td>\n",
       "      <td>-2.9</td>\n",
       "      <td>-0.854</td>\n",
       "    </tr>\n",
       "    <tr>\n",
       "      <th>2013-07-01</th>\n",
       "      <td>0.6</td>\n",
       "      <td>-2.1</td>\n",
       "      <td>-0.8</td>\n",
       "      <td>1.1</td>\n",
       "      <td>-0.366</td>\n",
       "    </tr>\n",
       "    <tr>\n",
       "      <th>2013-10-01</th>\n",
       "      <td>-0.3</td>\n",
       "      <td>-0.2</td>\n",
       "      <td>1.4</td>\n",
       "      <td>-0.1</td>\n",
       "      <td>0.183</td>\n",
       "    </tr>\n",
       "    <tr>\n",
       "      <th>2014-01-01</th>\n",
       "      <td>1.3</td>\n",
       "      <td>0.0</td>\n",
       "      <td>7.1</td>\n",
       "      <td>-3.5</td>\n",
       "      <td>-0.793</td>\n",
       "    </tr>\n",
       "    <tr>\n",
       "      <th>2014-04-01</th>\n",
       "      <td>-2.8</td>\n",
       "      <td>-5.3</td>\n",
       "      <td>14.3</td>\n",
       "      <td>-5.5</td>\n",
       "      <td>1.708</td>\n",
       "    </tr>\n",
       "  </tbody>\n",
       "</table>\n",
       "</div>"
      ],
      "text/plain": [
       "            GDP_CYOY_x  IIP_YOY_Q1  IIP_YOY_Q2  IIP_YOY_Q3  GDP_CYOY_y\n",
       "DATE                                                                  \n",
       "2013-04-01         1.4        -6.1        10.4        -2.9      -0.854\n",
       "2013-07-01         0.6        -2.1        -0.8         1.1      -0.366\n",
       "2013-10-01        -0.3        -0.2         1.4        -0.1       0.183\n",
       "2014-01-01         1.3         0.0         7.1        -3.5      -0.793\n",
       "2014-04-01        -2.8        -5.3        14.3        -5.5       1.708"
      ]
     },
     "execution_count": 52,
     "metadata": {},
     "output_type": "execute_result"
    }
   ],
   "source": [
    "df2.head()"
   ]
  },
  {
   "cell_type": "code",
   "execution_count": 53,
   "metadata": {},
   "outputs": [
    {
     "data": {
      "text/plain": [
       "array([-3.65714128e-16, -1.22017573e-16,  5.43459239e-16, -1.63934426e+00])"
      ]
     },
     "execution_count": 53,
     "metadata": {},
     "output_type": "execute_result"
    }
   ],
   "source": [
    "# 目的変数(Y)、説明変数(X)\n",
    "Y = np.array(df2['GDP_CYOY_x'])\n",
    "X = np.array(df2[['IIP_YOY_Q1', 'IIP_YOY_Q2', 'IIP_YOY_Q3','GDP_CYOY_y']])\n",
    "\n",
    "# 予測モデルを作成\n",
    "clf.fit(X, Y)\n",
    "clf.fit(X, Y).coef_"
   ]
  },
  {
   "cell_type": "code",
   "execution_count": 54,
   "metadata": {},
   "outputs": [
    {
     "name": "stdout",
     "output_type": "stream",
     "text": [
      "5.551115123125783e-16\n",
      "         Name  Coefficients\n",
      "3  GDP_CYOY_y -1.639344e+00\n",
      "0  IIP_YOY_Q1 -3.657141e-16\n",
      "1  IIP_YOY_Q2 -1.220176e-16\n",
      "2  IIP_YOY_Q3  5.434592e-16\n"
     ]
    }
   ],
   "source": [
    "# 偏回帰係数\n",
    "ab = pd.DataFrame({\"Name\": ['IIP_YOY_Q1', 'IIP_YOY_Q2', 'IIP_YOY_Q3','GDP_CYOY_y'],\n",
    "                  \"Coefficients\": clf.coef_}).sort_values(by='Coefficients')\n",
    "for index, row in ab.iterrows():\n",
    "    if row.Name == 'GDP_CYOY_y':\n",
    "        b4 = row.Coefficients\n",
    "    if row.Name == 'IIP_YOY_Q3':\n",
    "        b3 = row.Coefficients\n",
    "    elif row.Name == 'IIP_YOY_Q2':\n",
    "        b2 = row.Coefficients\n",
    "    else:\n",
    "        b1 = row.Coefficients\n",
    "# 切片\n",
    "print(clf.intercept_)\n",
    "a = clf.intercept_\n",
    "print(ab)"
   ]
  },
  {
   "cell_type": "code",
   "execution_count": 59,
   "metadata": {
    "scrolled": false
   },
   "outputs": [],
   "source": [
    "# df2['NOWCAST'] = df2.apply(lambda x: a + b1*x['IIP_YOY_Q1'] +\n",
    "#                            b2*x['IIP_YOY_Q2'] + b3*x['IIP_YOY_Q3']+b4*x['GDP_CYOY_y'], axis=1)\n",
    "\n",
    "# newdf2 = df2.copy()\n",
    "# newdf2 = newdf2.drop('IIP_YOY_Q1', axis=1)\n",
    "# newdf2 = newdf2.drop('IIP_YOY_Q2', axis=1)\n",
    "# newdf2 = newdf2.drop('IIP_YOY_Q3', axis=1)\n",
    "# newdf2 = newdf2.drop('GDP_CYOY_y', axis=1)\n",
    "# plt.figure()\n",
    "# newdf2.plot(figsize=(15,4), style=['o','--','o'])"
   ]
  },
  {
   "cell_type": "code",
   "execution_count": 56,
   "metadata": {},
   "outputs": [],
   "source": [
    "# # !pip3 install quandl\n",
    "# import quandl\n",
    "# quandl.ApiConfig.api_key = 'your key'\n",
    "# oil=quandl.get('NSE/OIL')\n",
    "# print(oil.head(3))\n",
    "# # mydata = quandl.get(“FRED/GDP”, start_date=”2019-12-31″, end_date=”2020-9-26″)\n",
    "# # df.to_csv (‘Name.csv’)\n",
    "# \n",
    "# #https://algotrading101.com/learn/quandl-guide/\n",
    "# # https://data.nasdaq.com/\n",
    "# \n",
    "# # !pip3 install Nasdaq-Data-Link\n",
    "# import nasdaqdatalink\n",
    "# mydata = nasdaqdatalink.get(\"EIA/PET_RWTC_D\") #WTI oil\n",
    "# q_GDP=nasdaqdatalink.get(\"ODA/JPN_NGDPD\") #GDP annually\n",
    "# print(q_GDP.head(3))"
   ]
  },
  {
   "cell_type": "markdown",
   "metadata": {},
   "source": [
    "<p>Emphasis, aka italics, with  <i> i or em tag</i></p>\n",
    "<p>Strong emphasis, aka bold, <b>b or strong tag</b></p>\n",
    "<p>Combined emphasis with <b><i> both tags </b></i></p>\n",
    "<p>Strikethrough uses <strike> strike tag </strike> </p>"
   ]
  },
  {
   "cell_type": "markdown",
   "metadata": {},
   "source": [
    "<li>収益率を予測可能な部分と、予測できない部分に分ける.</li>\n",
    "<ul>$r_i=E(r_i)+e_i$ </ul>\n",
    "<li>全ての証券のリターンに影響を与える共通ファクター$𝑚$が存在すると考える。</li>\n",
    "<ol>$r_i=E(r_i)+m+e_i$</ol>\n",
    "<li>企業によってマクロ経済のショックに対する反応は異なるので、感応度$\\beta$で表す。</li>\n",
    "<ul><ol>$r_i=E(r_i)+\\beta_i m+e_i$</ol></ul>"
   ]
  },
  {
   "cell_type": "markdown",
   "metadata": {},
   "source": [
    "1. Item 1\n",
    "2. Item 2 ( we can type 1. and the markdown will automatically numerate them) \n",
    "* First Item\n",
    "  * Nested item 1\n",
    "  * Nested item 2\n",
    "    1. Keep going\n",
    "    1. Yes\n",
    "  \n",
    "* Second Item\n",
    "- First Item\n",
    "- Second Item"
   ]
  },
  {
   "cell_type": "markdown",
   "metadata": {},
   "source": [
    "<ol>\n",
    "<li>Item 1</li>\n",
    "<li>Item 2 ( we can type 1. and the markdown will automatically numerate them) </li>\n",
    "<li><p>First Item</p>\n",
    "<ul>\n",
    "<li>Nested item 1</li>\n",
    "<li>Nested item 2<ol>\n",
    "<li>Keep going</li>\n",
    "<li>Yes</li>\n",
    "</ol>\n",
    "</li>\n",
    "</ul>\n",
    "</li>\n",
    "<li><p>Second Item</p>\n",
    "</li>\n",
    "<li>First Item</li>\n",
    "<li>Second Item</li>\n",
    "</ol>"
   ]
  },
  {
   "cell_type": "code",
   "execution_count": null,
   "metadata": {},
   "outputs": [],
   "source": []
  }
 ],
 "metadata": {
  "kernelspec": {
   "display_name": "Python 3",
   "language": "python",
   "name": "python3"
  },
  "language_info": {
   "codemirror_mode": {
    "name": "ipython",
    "version": 3
   },
   "file_extension": ".py",
   "mimetype": "text/x-python",
   "name": "python",
   "nbconvert_exporter": "python",
   "pygments_lexer": "ipython3",
   "version": "3.9.7"
  },
  "toc": {
   "base_numbering": "",
   "nav_menu": {},
   "number_sections": false,
   "sideBar": false,
   "skip_h1_title": true,
   "title_cell": "Table of Contents",
   "title_sidebar": "Contents",
   "toc_cell": false,
   "toc_position": {
    "height": "418.205px",
    "left": "1018px",
    "top": "111.136px",
    "width": "355.773px"
   },
   "toc_section_display": true,
   "toc_window_display": true
  }
 },
 "nbformat": 4,
 "nbformat_minor": 4
}
